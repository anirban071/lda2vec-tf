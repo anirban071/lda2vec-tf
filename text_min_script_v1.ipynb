{
  "nbformat": 4,
  "nbformat_minor": 0,
  "metadata": {
    "colab": {
      "name": "text_min_1.ipynb",
      "version": "0.3.2",
      "provenance": [],
      "collapsed_sections": [],
      "include_colab_link": true
    },
    "kernelspec": {
      "name": "python3",
      "display_name": "Python 3"
    }
  },
  "cells": [
    {
      "cell_type": "markdown",
      "metadata": {
        "id": "view-in-github",
        "colab_type": "text"
      },
      "source": [
        "<a href=\"https://colab.research.google.com/github/anirban071/lda2vec-tf/blob/master/text_min_script_v1.ipynb\" target=\"_parent\"><img src=\"https://colab.research.google.com/assets/colab-badge.svg\" alt=\"Open In Colab\"/></a>"
      ]
    },
    {
      "metadata": {
        "id": "Fg9d-T5bR6p4",
        "colab_type": "code",
        "colab": {
          "base_uri": "https://localhost:8080/",
          "height": 122
        },
        "outputId": "481afd53-7762-4704-95d9-3fd54a04210d"
      },
      "cell_type": "code",
      "source": [
        "from google.colab import drive\n",
        "drive.mount('/content/drive')"
      ],
      "execution_count": 2,
      "outputs": [
        {
          "output_type": "stream",
          "text": [
            "Go to this URL in a browser: https://accounts.google.com/o/oauth2/auth?client_id=947318989803-6bn6qk8qdgf4n4g3pfee6491hc0brc4i.apps.googleusercontent.com&redirect_uri=urn%3Aietf%3Awg%3Aoauth%3A2.0%3Aoob&scope=email%20https%3A%2F%2Fwww.googleapis.com%2Fauth%2Fdocs.test%20https%3A%2F%2Fwww.googleapis.com%2Fauth%2Fdrive%20https%3A%2F%2Fwww.googleapis.com%2Fauth%2Fdrive.photos.readonly%20https%3A%2F%2Fwww.googleapis.com%2Fauth%2Fpeopleapi.readonly&response_type=code\n",
            "\n",
            "Enter your authorization code:\n",
            "··········\n",
            "Mounted at /content/drive\n"
          ],
          "name": "stdout"
        }
      ]
    },
    {
      "metadata": {
        "id": "rtLaA3d8SN45",
        "colab_type": "code",
        "colab": {
          "base_uri": "https://localhost:8080/",
          "height": 34
        },
        "outputId": "732cdf98-83b0-4172-d47d-ae47562d8dfe"
      },
      "cell_type": "code",
      "source": [
        "import pandas as pd\n",
        "import numpy as np\n",
        "import scipy as sp\n",
        "import nltk\n",
        "import gensim\n",
        "import spacy\n",
        "import tensorflow\n",
        "import keras\n",
        "from copy import deepcopy\n",
        "import collections\n",
        "import re\n",
        "from nltk.stem import WordNetLemmatizer\n",
        "from nltk.corpus import stopwords\n",
        "import matplotlib.pyplot as plt\n",
        "%matplotlib inline"
      ],
      "execution_count": 3,
      "outputs": [
        {
          "output_type": "stream",
          "text": [
            "Using TensorFlow backend.\n"
          ],
          "name": "stderr"
        }
      ]
    },
    {
      "metadata": {
        "id": "uQ6xNZkpVaYC",
        "colab_type": "code",
        "colab": {}
      },
      "cell_type": "code",
      "source": [
        "dt = pd.read_excel('/content/drive/My Drive/colab_work/SHINGRIX social mentions 17-Sep-2018.xlsx', sheet_name='Stream-Data-1')"
      ],
      "execution_count": 0,
      "outputs": []
    },
    {
      "metadata": {
        "id": "VWlNSd2WVtEm",
        "colab_type": "code",
        "colab": {}
      },
      "cell_type": "code",
      "source": [
        "dfs = deepcopy(dt)"
      ],
      "execution_count": 0,
      "outputs": []
    },
    {
      "metadata": {
        "id": "mspiAtLUhmra",
        "colab_type": "code",
        "outputId": "21e7c678-02d7-45a7-de2e-4d85369c6aa3",
        "colab": {
          "base_uri": "https://localhost:8080/",
          "height": 306
        }
      },
      "cell_type": "code",
      "source": [
        "dfs.columns"
      ],
      "execution_count": 6,
      "outputs": [
        {
          "output_type": "execute_result",
          "data": {
            "text/plain": [
              "Index(['UniversalMessageId', 'SocialNetwork', 'SenderUserId',\n",
              "       'SenderScreenName', 'SenderListedName', 'SenderProfileImgUrl',\n",
              "       'SenderProfileLink', 'Sender Followers Count', 'SenderInfluencerScore',\n",
              "       'SenderAge', 'SenderGender', 'Title', 'Message', 'MessageType',\n",
              "       'CreatedTime', 'Language', 'LanguageCode', 'CountryCode',\n",
              "       'MediaTypeList', 'Permalink', 'Domain', 'Retweets', 'Tweet Generator',\n",
              "       'Favorites', 'ReceiverId', 'ReceiverScreenName', 'AssignedBy',\n",
              "       'AssignedTo', 'Spam', 'Status', 'Priority', 'Sentiment', 'ClientQueues',\n",
              "       'PartnerQueues', 'ClientCustomProps', 'PartnerCustomProps',\n",
              "       'Custom Tags', 'Action Time', 'Method (Hidden field)',\n",
              "       'Contact Source (Hidden field)', 'Business Unit', 'Country',\n",
              "       'Business Area', 'Case Owner Country', 'Message Source', 'Brand',\n",
              "       'Issue', 'Brand Reply', 'Reason for No Reply', 'Franchise', 'Audience',\n",
              "       'Escalated?', 'Social Engagement POC Brand', 'Geo Target', 'Post Id',\n",
              "       'Associated Cases', 'Location', 'Country.1', 'State', 'City',\n",
              "       'Latitude', 'Longitude', 'Sender Email', 'Message Type'],\n",
              "      dtype='object')"
            ]
          },
          "metadata": {
            "tags": []
          },
          "execution_count": 6
        }
      ]
    },
    {
      "metadata": {
        "id": "EVe0Hj5qiEem",
        "colab_type": "code",
        "colab": {}
      },
      "cell_type": "code",
      "source": [
        "col_nm = []\n",
        "for i in dfs.columns:\n",
        "  k = i\n",
        "  k1 = '_'.join(k.split(' '))\n",
        "  k2 = '_'.join(k1.split('.'))\n",
        "  col_nm = col_nm + [k2]"
      ],
      "execution_count": 0,
      "outputs": []
    },
    {
      "metadata": {
        "id": "a8Cbhyc455P7",
        "colab_type": "code",
        "colab": {}
      },
      "cell_type": "code",
      "source": [
        "dfs.columns = col_nm"
      ],
      "execution_count": 0,
      "outputs": []
    },
    {
      "metadata": {
        "id": "L8ol6SaL6clg",
        "colab_type": "code",
        "outputId": "1e5d6f50-ec44-4277-da79-934af424edf2",
        "colab": {
          "base_uri": "https://localhost:8080/",
          "height": 306
        }
      },
      "cell_type": "code",
      "source": [
        "dfs.columns"
      ],
      "execution_count": 9,
      "outputs": [
        {
          "output_type": "execute_result",
          "data": {
            "text/plain": [
              "Index(['UniversalMessageId', 'SocialNetwork', 'SenderUserId',\n",
              "       'SenderScreenName', 'SenderListedName', 'SenderProfileImgUrl',\n",
              "       'SenderProfileLink', 'Sender_Followers_Count', 'SenderInfluencerScore',\n",
              "       'SenderAge', 'SenderGender', 'Title', 'Message', 'MessageType',\n",
              "       'CreatedTime', 'Language', 'LanguageCode', 'CountryCode',\n",
              "       'MediaTypeList', 'Permalink', 'Domain', 'Retweets', 'Tweet_Generator',\n",
              "       'Favorites', 'ReceiverId', 'ReceiverScreenName', 'AssignedBy',\n",
              "       'AssignedTo', 'Spam', 'Status', 'Priority', 'Sentiment', 'ClientQueues',\n",
              "       'PartnerQueues', 'ClientCustomProps', 'PartnerCustomProps',\n",
              "       'Custom_Tags', 'Action_Time', 'Method_(Hidden_field)',\n",
              "       'Contact_Source_(Hidden_field)', 'Business_Unit', 'Country',\n",
              "       'Business_Area', 'Case_Owner_Country', 'Message_Source', 'Brand',\n",
              "       'Issue', 'Brand_Reply', 'Reason_for_No_Reply', 'Franchise', 'Audience',\n",
              "       'Escalated?', 'Social_Engagement_POC_Brand', 'Geo_Target', 'Post_Id',\n",
              "       'Associated_Cases', 'Location', 'Country_1', 'State', 'City',\n",
              "       'Latitude', 'Longitude', 'Sender_Email', 'Message_Type'],\n",
              "      dtype='object')"
            ]
          },
          "metadata": {
            "tags": []
          },
          "execution_count": 9
        }
      ]
    },
    {
      "metadata": {
        "id": "6Q8YbSyA8Xpo",
        "colab_type": "code",
        "colab": {}
      },
      "cell_type": "code",
      "source": [
        "dfs_eng = dfs[dfs['Language']=='English']\n",
        "dfs_eng = dfs_eng[dfs_eng.Message.notnull()]"
      ],
      "execution_count": 0,
      "outputs": []
    },
    {
      "metadata": {
        "id": "mJUL6x9y1n88",
        "colab_type": "code",
        "outputId": "d4388c4a-e31f-4e20-de34-76125c14a5aa",
        "colab": {
          "base_uri": "https://localhost:8080/",
          "height": 34
        }
      },
      "cell_type": "code",
      "source": [
        "collections.Counter(np.array(dfs_eng['SenderGender']))"
      ],
      "execution_count": 11,
      "outputs": [
        {
          "output_type": "execute_result",
          "data": {
            "text/plain": [
              "Counter({'F': 11, 'FEMALE': 1, 'M': 3, 'MALE': 3, nan: 1169})"
            ]
          },
          "metadata": {
            "tags": []
          },
          "execution_count": 11
        }
      ]
    },
    {
      "metadata": {
        "id": "1c0KWmiIWysa",
        "colab_type": "code",
        "colab": {}
      },
      "cell_type": "code",
      "source": [
        "r,c = dfs_eng.shape"
      ],
      "execution_count": 0,
      "outputs": []
    },
    {
      "metadata": {
        "id": "mvky_WgdW5OA",
        "colab_type": "code",
        "outputId": "66424c18-54a1-439f-ce47-08b2e557694b",
        "colab": {
          "base_uri": "https://localhost:8080/",
          "height": 34
        }
      },
      "cell_type": "code",
      "source": [
        "r"
      ],
      "execution_count": 13,
      "outputs": [
        {
          "output_type": "execute_result",
          "data": {
            "text/plain": [
              "1187"
            ]
          },
          "metadata": {
            "tags": []
          },
          "execution_count": 13
        }
      ]
    },
    {
      "metadata": {
        "id": "4G80r8PtVw5x",
        "colab_type": "code",
        "colab": {}
      },
      "cell_type": "code",
      "source": [
        "lst = dfs_eng.isna().sum()/r\n",
        "df1 = pd.DataFrame(lst)\n",
        "df1.columns = ['perc_null']\n",
        "df1['null_cnt'] = list(dfs_eng.isna().sum())\n",
        "df1['vars'] = df1.index\n",
        "df1 = df1.sort_values(by = ['perc_null'], ascending=[False])"
      ],
      "execution_count": 0,
      "outputs": []
    },
    {
      "metadata": {
        "id": "JuIt5_0b-Dze",
        "colab_type": "code",
        "colab": {}
      },
      "cell_type": "code",
      "source": [
        "msg = list(dfs_eng.Message)"
      ],
      "execution_count": 0,
      "outputs": []
    },
    {
      "metadata": {
        "id": "DhyAeVBc__Lv",
        "colab_type": "code",
        "outputId": "c3ca8348-015f-42ae-df79-418f3a3b23d8",
        "colab": {
          "base_uri": "https://localhost:8080/",
          "height": 136
        }
      },
      "cell_type": "code",
      "source": [
        "nltk.download('punkt')\n",
        "nltk.download('stopwords')\n",
        "nltk.download('wordnet')\n",
        "#from nltk.tokenize import word_tokenize\n",
        "#print(word_tokenize(h1.lower()))"
      ],
      "execution_count": 16,
      "outputs": [
        {
          "output_type": "stream",
          "text": [
            "[nltk_data] Downloading package punkt to /root/nltk_data...\n",
            "[nltk_data]   Unzipping tokenizers/punkt.zip.\n",
            "[nltk_data] Downloading package stopwords to /root/nltk_data...\n",
            "[nltk_data]   Unzipping corpora/stopwords.zip.\n",
            "[nltk_data] Downloading package wordnet to /root/nltk_data...\n",
            "[nltk_data]   Unzipping corpora/wordnet.zip.\n"
          ],
          "name": "stdout"
        },
        {
          "output_type": "execute_result",
          "data": {
            "text/plain": [
              "True"
            ]
          },
          "metadata": {
            "tags": []
          },
          "execution_count": 16
        }
      ]
    },
    {
      "metadata": {
        "id": "H2QTL4_icog-",
        "colab_type": "code",
        "colab": {}
      },
      "cell_type": "code",
      "source": [
        "stpwrd = list(set(stopwords.words('english')))"
      ],
      "execution_count": 0,
      "outputs": []
    },
    {
      "metadata": {
        "id": "6dLd397gdY9d",
        "colab_type": "code",
        "outputId": "aec1d883-a55e-4eeb-e732-98c4cd925138",
        "colab": {
          "base_uri": "https://localhost:8080/",
          "height": 425
        }
      },
      "cell_type": "code",
      "source": [
        "np.array(stpwrd)"
      ],
      "execution_count": 18,
      "outputs": [
        {
          "output_type": "execute_result",
          "data": {
            "text/plain": [
              "array(['can', 'be', 'am', 'some', 'ain', \"hadn't\", 'below', 'had', 're',\n",
              "       'same', 'now', 'yourself', 'between', 'in', \"that'll\",\n",
              "       'themselves', 'hadn', 'me', 'about', 'she', \"aren't\", 'are',\n",
              "       \"it's\", 'which', 'yourselves', 'further', 'is', \"you'd\", 'ma',\n",
              "       'the', 'm', 'to', 'ours', 't', 'couldn', 'than', 'won', 'isn',\n",
              "       'or', 'y', 'having', 'been', 'when', 'an', 'each', 'of', 'at',\n",
              "       'he', 'while', 'itself', 'no', 'll', 'very', 'himself', 'who',\n",
              "       'will', 'i', 'before', 'herself', 'why', 'with', 'by', \"shouldn't\",\n",
              "       \"wasn't\", 'weren', 'on', 'from', \"you've\", 's', 'this', 'mightn',\n",
              "       \"hasn't\", 'they', 'ourselves', \"don't\", 'for', \"mustn't\",\n",
              "       \"haven't\", 'through', \"she's\", 'mustn', 'hasn', 'wasn', \"mightn't\",\n",
              "       'has', \"you're\", 'again', 'did', 'off', 'as', 'where', \"should've\",\n",
              "       'have', 'my', 'both', 'not', 'most', 'doesn', 'under', 'them',\n",
              "       'our', \"isn't\", 'there', 'these', \"shan't\", \"won't\", \"doesn't\",\n",
              "       'theirs', 'don', \"you'll\", 'yours', 'were', 'because', 'those',\n",
              "       'him', 'after', 'but', 'few', 'your', 'we', 'how', 'its', 'any',\n",
              "       'so', \"wouldn't\", 'needn', 'such', 'own', 'o', 'whom', 'you',\n",
              "       'more', 'during', 'nor', 'then', 'until', 'and', 'above', 'doing',\n",
              "       'down', 'here', 'all', 'just', 'd', 'didn', \"needn't\", 'wouldn',\n",
              "       'hers', 'against', 'over', 'up', 'myself', 'out', 'should', 'that',\n",
              "       \"couldn't\", 'his', 'it', 'what', 'a', 'was', 'only', 'haven',\n",
              "       'her', 'once', \"didn't\", 'their', 'shouldn', 'do', 'too', 've',\n",
              "       \"weren't\", 'aren', 'into', 'being', 'other', 'if', 'does', 'shan'],\n",
              "      dtype='<U10')"
            ]
          },
          "metadata": {
            "tags": []
          },
          "execution_count": 18
        }
      ]
    },
    {
      "metadata": {
        "id": "B3IfnF0icoaJ",
        "colab_type": "code",
        "colab": {}
      },
      "cell_type": "code",
      "source": [
        "rmv_stpw = [\"but\",\"don't\",\"weren't\",\"aren't\",\"hadn't\",\"wouldn't\",\"wasn't\",\"mightn't\",\"shouldn't\",\"couldn't\",\"doesn't\",\"won't\",\"isn't\",\"didn't\",\"mustn't\",\"hasn't\",\"shan't\",\"haven't\",\"however\",\"don\",\"weren\",\"aren\",\"hadn\",\"wouldn\",\"wasn\",\"mightn\",\"shouldn\",\"couldn\",\"doesn\",\"won\",\"isn\",\"didn\",\"mustn\",\"hasn\",\"shan\",\"haven\"]\n",
        "stpwrd1 = [i for i in stpwrd if i not in rmv_stpw]"
      ],
      "execution_count": 0,
      "outputs": []
    },
    {
      "metadata": {
        "id": "XHEYFe6YcoU-",
        "colab_type": "code",
        "outputId": "033b63ef-0b91-4009-e510-1f8a36023e43",
        "colab": {
          "base_uri": "https://localhost:8080/",
          "height": 323
        }
      },
      "cell_type": "code",
      "source": [
        "np.array(stpwrd1)"
      ],
      "execution_count": 20,
      "outputs": [
        {
          "output_type": "execute_result",
          "data": {
            "text/plain": [
              "array(['can', 'be', 'am', 'some', 'ain', 'below', 'had', 're', 'same',\n",
              "       'now', 'yourself', 'between', 'in', \"that'll\", 'themselves', 'me',\n",
              "       'about', 'she', 'are', \"it's\", 'which', 'yourselves', 'further',\n",
              "       'is', \"you'd\", 'ma', 'the', 'm', 'to', 'ours', 't', 'than', 'or',\n",
              "       'y', 'having', 'been', 'when', 'an', 'each', 'of', 'at', 'he',\n",
              "       'while', 'itself', 'no', 'll', 'very', 'himself', 'who', 'will',\n",
              "       'i', 'before', 'herself', 'why', 'with', 'by', 'on', 'from',\n",
              "       \"you've\", 's', 'this', 'they', 'ourselves', 'for', 'through',\n",
              "       \"she's\", 'has', \"you're\", 'again', 'did', 'off', 'as', 'where',\n",
              "       \"should've\", 'have', 'my', 'both', 'not', 'most', 'under', 'them',\n",
              "       'our', 'there', 'these', 'theirs', \"you'll\", 'yours', 'were',\n",
              "       'because', 'those', 'him', 'after', 'few', 'your', 'we', 'how',\n",
              "       'its', 'any', 'so', 'needn', 'such', 'own', 'o', 'whom', 'you',\n",
              "       'more', 'during', 'nor', 'then', 'until', 'and', 'above', 'doing',\n",
              "       'down', 'here', 'all', 'just', 'd', \"needn't\", 'hers', 'against',\n",
              "       'over', 'up', 'myself', 'out', 'should', 'that', 'his', 'it',\n",
              "       'what', 'a', 'was', 'only', 'her', 'once', 'their', 'do', 'too',\n",
              "       've', 'into', 'being', 'other', 'if', 'does'], dtype='<U10')"
            ]
          },
          "metadata": {
            "tags": []
          },
          "execution_count": 20
        }
      ]
    },
    {
      "metadata": {
        "id": "3b83yP-KjYTG",
        "colab_type": "code",
        "outputId": "1fb74ac6-4882-4fd2-9ddc-2cc63f191ede",
        "colab": {
          "base_uri": "https://localhost:8080/",
          "height": 51
        }
      },
      "cell_type": "code",
      "source": [
        "import re\n",
        "\n",
        "text = u'This dog \\U0001f602'\n",
        "print(text) # with emoji\n",
        "\n",
        "emoji_pattern = re.compile(\"[\"\n",
        "                       u\"\\U0001F600-\\U0001F64F\"  # emoticons\n",
        "                       u\"\\U0001F300-\\U0001F5FF\"  # symbols & pictographs\n",
        "                       u\"\\U0001F680-\\U0001F6FF\"  # transport & map symbols\n",
        "                       u\"\\U0001F1E0-\\U0001F1FF\"  # flags (iOS)\n",
        "                       u\"\\U00002702-\\U000027B0\"\n",
        "                       u\"\\U000024C2-\\U0001F251\"\n",
        "                       u\"\\U0001f926-\\U0001f937\"\n",
        "                       u\"\\u200d\"\n",
        "                       u\"\\u2640-\\u2642\"\n",
        "                       \"]+\", flags=re.UNICODE)\n",
        "\n",
        "emoji_pattern.sub(r'', text).strip() # no emoji\n"
      ],
      "execution_count": 21,
      "outputs": [
        {
          "output_type": "stream",
          "text": [
            "This dog 😂\n"
          ],
          "name": "stdout"
        },
        {
          "output_type": "execute_result",
          "data": {
            "text/plain": [
              "'This dog'"
            ]
          },
          "metadata": {
            "tags": []
          },
          "execution_count": 21
        }
      ]
    },
    {
      "metadata": {
        "id": "6j9FRAZn-DjV",
        "colab_type": "code",
        "colab": {}
      },
      "cell_type": "code",
      "source": [
        "emoticons_str = r\"\"\"\n",
        "    (?:\n",
        "        [:=;] # Eyes\n",
        "        [oO\\-]? # Nose (optional)\n",
        "        [D\\)\\]\\(\\]/\\\\OpP] # Mouth\n",
        "    )\"\"\"\n",
        " \n",
        "regex_str = [\n",
        "    emoticons_str,\n",
        "    r'<[^>]+>', # HTML tags\n",
        "    r'(?:@[\\w_]+)', # @-mentions\n",
        "    r\"(?:\\#+[\\w_]+[\\w\\'_\\-]*[\\w_]+)\", # hash-tags\n",
        "    r'http[s]?://(?:[a-z]|[0-9]|[$-_@.&amp;+]|[!*\\(\\),]|(?:%[0-9a-f][0-9a-f]))+', # URLs\n",
        " \n",
        "    r'(?:(?:\\d+,?)+(?:\\.?\\d+)?)', # numbers\n",
        "    r\"(?:[a-z][a-z'\\-_]+[a-z])\", # words with - and '\n",
        "    r'(?:[\\w_]+)', # other words\n",
        "    r'(?:\\S)' # anything else\n",
        "]\n",
        "\n",
        "tokens_re = re.compile(r'('+'|'.join(regex_str)+')', re.VERBOSE | re.IGNORECASE)\n",
        "emoticon_re = re.compile(r'^'+emoticons_str+'$', re.VERBOSE | re.IGNORECASE)\n",
        "\n",
        "def tokenize(s):\n",
        "    return(tokens_re.findall(s))\n",
        " \n",
        "def preprocess(s, lowercase=False):\n",
        "    tokens = tokenize(s)\n",
        "    if lowercase:\n",
        "        tokens = [token if emoticon_re.search(token) else token.lower() for token in tokens]\n",
        "    return(tokens)"
      ],
      "execution_count": 0,
      "outputs": []
    },
    {
      "metadata": {
        "id": "HnK0rkHM-Da_",
        "colab_type": "code",
        "colab": {}
      },
      "cell_type": "code",
      "source": [
        "removetable = str.maketrans('', '', \"@#$%!^&*+=}{,.><_?/\\|;:][)(0123456789\")\n",
        "wordnet_lemmatizer = WordNetLemmatizer()\n",
        "msg_lst = []\n",
        "for m in msg:\n",
        "  m = str(m)\n",
        "  m1 = emoji_pattern.sub(r'', m).strip()\n",
        "  m1 = re.sub('http\\S+', '', re.sub('FTP\\S+', '', m1)).strip()\n",
        "  m1 = re.sub('\\n',' ',m1).strip()\n",
        "  h1 = preprocess(m1.lower())\n",
        "  h2 = [s.translate(removetable) for s in h1]\n",
        "  h21 = [nn for nn in h2 if nn!='']\n",
        "  h3 = [wordnet_lemmatizer.lemmatize(a1, pos='v') for a1 in h21]\n",
        "  h4 = [a2 for a2 in h3 if a2 not in stpwrd1]\n",
        "  msg_lst.append([i for i in h4 if ((i!='') & (len(i)>=2) & (len(i)<=30))])\n"
      ],
      "execution_count": 0,
      "outputs": []
    },
    {
      "metadata": {
        "id": "TFTWj3gWRhiy",
        "colab_type": "code",
        "outputId": "8a277a5a-882f-46bb-c36e-5c5b75fc1384",
        "colab": {
          "base_uri": "https://localhost:8080/",
          "height": 34
        }
      },
      "cell_type": "code",
      "source": [
        "'''\n",
        "nltk.download('words')\n",
        "wordlist = [w.lower() for w in nltk.corpus.words.words('en')]\n",
        "'''"
      ],
      "execution_count": 24,
      "outputs": [
        {
          "output_type": "execute_result",
          "data": {
            "text/plain": [
              "\"\\nnltk.download('words')\\nwordlist = [w.lower() for w in nltk.corpus.words.words('en')]\\n\""
            ]
          },
          "metadata": {
            "tags": []
          },
          "execution_count": 24
        }
      ]
    },
    {
      "metadata": {
        "id": "Mz8qxKWkhp66",
        "colab_type": "code",
        "colab": {}
      },
      "cell_type": "code",
      "source": [
        "from wordcloud import WordCloud\n",
        "import nltk\n",
        "from nltk.corpus import stopwords\n",
        "from nltk import sent_tokenize, word_tokenize\n",
        "from wordcloud import WordCloud, STOPWORDS\n"
      ],
      "execution_count": 0,
      "outputs": []
    },
    {
      "metadata": {
        "id": "LFk6wm0Y-DIC",
        "colab_type": "code",
        "outputId": "2e709196-c82a-49c8-b7df-11ee9869f60c",
        "colab": {
          "base_uri": "https://localhost:8080/",
          "height": 34
        }
      },
      "cell_type": "code",
      "source": [
        "'''\n",
        "text = ''\n",
        "for u1 in msg_lst:\n",
        "  text = text + ' '+ ' '.join(u1)\n",
        "text = text.strip()\n",
        "text\n",
        "'''"
      ],
      "execution_count": 26,
      "outputs": [
        {
          "output_type": "execute_result",
          "data": {
            "text/plain": [
              "\"\\ntext = ''\\nfor u1 in msg_lst:\\n  text = text + ' '+ ' '.join(u1)\\ntext = text.strip()\\ntext\\n\""
            ]
          },
          "metadata": {
            "tags": []
          },
          "execution_count": 26
        }
      ]
    },
    {
      "metadata": {
        "id": "xmsxlL411W5A",
        "colab_type": "code",
        "outputId": "afbd3f92-6a5c-4284-fe7d-0a40f4aa5519",
        "colab": {
          "base_uri": "https://localhost:8080/",
          "height": 54
        }
      },
      "cell_type": "code",
      "source": [
        "'''\n",
        "wordcloud = WordCloud(background_color='white', width=2000, height=1000, max_words=5000).generate(text)\n",
        "\n",
        "plt.figure( figsize=(20,10), facecolor='k')\n",
        "plt.imshow(wordcloud, interpolation='bilinear')\n",
        "plt.axis(\"off\")\n",
        "plt.tight_layout(pad=0)\n",
        "plt.show()\n",
        "'''"
      ],
      "execution_count": 27,
      "outputs": [
        {
          "output_type": "execute_result",
          "data": {
            "text/plain": [
              "'\\nwordcloud = WordCloud(background_color=\\'white\\', width=2000, height=1000, max_words=5000).generate(text)\\n\\nplt.figure( figsize=(20,10), facecolor=\\'k\\')\\nplt.imshow(wordcloud, interpolation=\\'bilinear\\')\\nplt.axis(\"off\")\\nplt.tight_layout(pad=0)\\nplt.show()\\n'"
            ]
          },
          "metadata": {
            "tags": []
          },
          "execution_count": 27
        }
      ]
    },
    {
      "metadata": {
        "id": "MUzO_9EX-C-7",
        "colab_type": "code",
        "outputId": "358ef028-d158-4f32-c89c-ad576eb91686",
        "colab": {
          "base_uri": "https://localhost:8080/",
          "height": 34
        }
      },
      "cell_type": "code",
      "source": [
        "'''\n",
        "text_bi = ''\n",
        "for u2 in msg_lst:\n",
        "  bigrm = nltk.bigrams(u2)\n",
        "  blst = list(bigrm)\n",
        "  t2 = ' '.join(['_'.join(i)for i in blst])\n",
        "  text_bi = text_bi + ' ' + t2 \n",
        "text_bi = text_bi.strip()\n",
        "'''"
      ],
      "execution_count": 28,
      "outputs": [
        {
          "output_type": "execute_result",
          "data": {
            "text/plain": [
              "\"\\ntext_bi = ''\\nfor u2 in msg_lst:\\n  bigrm = nltk.bigrams(u2)\\n  blst = list(bigrm)\\n  t2 = ' '.join(['_'.join(i)for i in blst])\\n  text_bi = text_bi + ' ' + t2 \\ntext_bi = text_bi.strip()\\n\""
            ]
          },
          "metadata": {
            "tags": []
          },
          "execution_count": 28
        }
      ]
    },
    {
      "metadata": {
        "id": "WVztYHwz468R",
        "colab_type": "code",
        "outputId": "c3718680-caf4-46f9-a103-2b9190cd863a",
        "colab": {
          "base_uri": "https://localhost:8080/",
          "height": 54
        }
      },
      "cell_type": "code",
      "source": [
        "'''\n",
        "wordcloud = WordCloud(background_color='white', width=2000, height=1000, max_words=5000).generate(text_bi)\n",
        "\n",
        "plt.figure( figsize=(20,10), facecolor='k')\n",
        "plt.imshow(wordcloud, interpolation='bilinear')\n",
        "plt.axis(\"off\")\n",
        "plt.tight_layout(pad=0)\n",
        "plt.show()\n",
        "'''"
      ],
      "execution_count": 29,
      "outputs": [
        {
          "output_type": "execute_result",
          "data": {
            "text/plain": [
              "'\\nwordcloud = WordCloud(background_color=\\'white\\', width=2000, height=1000, max_words=5000).generate(text_bi)\\n\\nplt.figure( figsize=(20,10), facecolor=\\'k\\')\\nplt.imshow(wordcloud, interpolation=\\'bilinear\\')\\nplt.axis(\"off\")\\nplt.tight_layout(pad=0)\\nplt.show()\\n'"
            ]
          },
          "metadata": {
            "tags": []
          },
          "execution_count": 29
        }
      ]
    },
    {
      "metadata": {
        "id": "UgIffpVc462c",
        "colab_type": "code",
        "outputId": "dd33373a-2d0d-4a34-99d1-a20ed9367285",
        "colab": {
          "base_uri": "https://localhost:8080/",
          "height": 306
        }
      },
      "cell_type": "code",
      "source": [
        "dfs_eng.columns"
      ],
      "execution_count": 30,
      "outputs": [
        {
          "output_type": "execute_result",
          "data": {
            "text/plain": [
              "Index(['UniversalMessageId', 'SocialNetwork', 'SenderUserId',\n",
              "       'SenderScreenName', 'SenderListedName', 'SenderProfileImgUrl',\n",
              "       'SenderProfileLink', 'Sender_Followers_Count', 'SenderInfluencerScore',\n",
              "       'SenderAge', 'SenderGender', 'Title', 'Message', 'MessageType',\n",
              "       'CreatedTime', 'Language', 'LanguageCode', 'CountryCode',\n",
              "       'MediaTypeList', 'Permalink', 'Domain', 'Retweets', 'Tweet_Generator',\n",
              "       'Favorites', 'ReceiverId', 'ReceiverScreenName', 'AssignedBy',\n",
              "       'AssignedTo', 'Spam', 'Status', 'Priority', 'Sentiment', 'ClientQueues',\n",
              "       'PartnerQueues', 'ClientCustomProps', 'PartnerCustomProps',\n",
              "       'Custom_Tags', 'Action_Time', 'Method_(Hidden_field)',\n",
              "       'Contact_Source_(Hidden_field)', 'Business_Unit', 'Country',\n",
              "       'Business_Area', 'Case_Owner_Country', 'Message_Source', 'Brand',\n",
              "       'Issue', 'Brand_Reply', 'Reason_for_No_Reply', 'Franchise', 'Audience',\n",
              "       'Escalated?', 'Social_Engagement_POC_Brand', 'Geo_Target', 'Post_Id',\n",
              "       'Associated_Cases', 'Location', 'Country_1', 'State', 'City',\n",
              "       'Latitude', 'Longitude', 'Sender_Email', 'Message_Type'],\n",
              "      dtype='object')"
            ]
          },
          "metadata": {
            "tags": []
          },
          "execution_count": 30
        }
      ]
    },
    {
      "metadata": {
        "id": "DN0MBuu5460b",
        "colab_type": "code",
        "colab": {}
      },
      "cell_type": "code",
      "source": [
        "msg_lst_col = []\n",
        "for ii in msg_lst:\n",
        "  msg_lst_col = msg_lst_col + [' '.join(ii)]"
      ],
      "execution_count": 0,
      "outputs": []
    },
    {
      "metadata": {
        "id": "Xc3TjDxJ46v3",
        "colab_type": "code",
        "colab": {
          "base_uri": "https://localhost:8080/",
          "height": 34
        },
        "outputId": "96fa199a-a455-42c1-8d69-308ba7fe1aaa"
      },
      "cell_type": "code",
      "source": [
        "'''\n",
        "dfs_mod_dt = pd.DataFrame({'msg':msg_lst_col,'sentiment':dfs_eng.Sentiment})\n",
        "dfs_mod_dt = dfs_mod_dt[dfs_mod_dt.msg!='']\n",
        "'''"
      ],
      "execution_count": 32,
      "outputs": [
        {
          "output_type": "execute_result",
          "data": {
            "text/plain": [
              "\"\\ndfs_mod_dt = pd.DataFrame({'msg':msg_lst_col,'sentiment':dfs_eng.Sentiment})\\ndfs_mod_dt = dfs_mod_dt[dfs_mod_dt.msg!='']\\n\""
            ]
          },
          "metadata": {
            "tags": []
          },
          "execution_count": 32
        }
      ]
    },
    {
      "metadata": {
        "id": "4Aq3YE2B46pe",
        "colab_type": "code",
        "colab": {}
      },
      "cell_type": "code",
      "source": [
        "import numpy as np\n",
        "import nltk\n",
        "import scipy as sp\n",
        "import pandas as pd\n",
        "import matplotlib\n",
        "import sys\n",
        "import spacy\n",
        "import theano\n",
        "import re\n",
        "import os\n",
        "from __future__ import division\n",
        "from nltk.tokenize import word_tokenize\n",
        "import theano.tensor as T\n",
        "import gensim\n",
        "import codecs\n",
        "import json\n",
        "import itertools as it\n",
        "from sklearn.feature_extraction.text import TfidfVectorizer\n",
        "from sklearn.feature_extraction.text import CountVectorizer\n",
        "from sklearn.ensemble import RandomForestClassifier as RFC\n",
        "from sklearn.ensemble import GradientBoostingClassifier as GBM\n",
        "from sklearn import metrics\n",
        "from sklearn.metrics import confusion_matrix\n",
        "from sklearn.feature_selection import RFE\n",
        "from sklearn.linear_model import LogisticRegression as LR\n",
        "from sklearn.linear_model import SGDClassifier as SGDC\n",
        "from functools import reduce\n",
        "import datetime\n",
        "from datetime import datetime, timedelta\n",
        "from nltk.stem import PorterStemmer\n",
        "from nltk.tokenize import sent_tokenize, word_tokenize\n",
        "from sklearn.model_selection import train_test_split\n",
        "import pickle\n",
        "import tensorflow as tf\n",
        "from sklearn import preprocessing\n",
        "from sklearn.preprocessing import StandardScaler\n",
        "from keras.utils.np_utils import to_categorical\n",
        "from keras.preprocessing.sequence import pad_sequences\n",
        "from keras.models import Model\n",
        "from keras.layers import Input, Dense, Dropout, Flatten\n",
        "from keras.layers.convolutional import Convolution1D, MaxPooling1D\n",
        "from copy import deepcopy\n",
        "from sklearn.preprocessing import OneHotEncoder, LabelEncoder\n",
        "from keras.datasets import imdb\n",
        "from keras.models import Sequential\n",
        "from keras.layers import Dense\n",
        "from keras.layers import LSTM, GRU\n",
        "from keras.layers.embeddings import Embedding\n",
        "from keras.preprocessing import sequence\n",
        "from sklearn.utils import class_weight\n",
        "from pickle import load\n",
        "from numpy import array\n",
        "from keras.preprocessing.text import Tokenizer\n",
        "from keras.utils.vis_utils import plot_model\n",
        "from keras.layers import Input\n",
        "from keras.layers import Flatten\n",
        "from keras.layers import Dropout\n",
        "from keras.layers import Embedding\n",
        "from keras.layers.convolutional import Conv1D\n",
        "from keras.layers.convolutional import MaxPooling1D, AveragePooling1D\n",
        "from keras.layers.merge import concatenate\n",
        "from keras.models import load_model\n"
      ],
      "execution_count": 0,
      "outputs": []
    },
    {
      "metadata": {
        "id": "6YfXs5xB46lf",
        "colab_type": "code",
        "outputId": "4f7a02d3-b9a7-4481-aa17-32443c7fe3b9",
        "colab": {
          "base_uri": "https://localhost:8080/",
          "height": 34
        }
      },
      "cell_type": "code",
      "source": [
        "'''\n",
        "X = dfs_mod_dt.msg.loc[:].values\n",
        "y = dfs_mod_dt.sentiment.loc[:].values\n",
        "'''"
      ],
      "execution_count": 34,
      "outputs": [
        {
          "output_type": "execute_result",
          "data": {
            "text/plain": [
              "'\\nX = dfs_mod_dt.msg.loc[:].values\\ny = dfs_mod_dt.sentiment.loc[:].values\\n'"
            ]
          },
          "metadata": {
            "tags": []
          },
          "execution_count": 34
        }
      ]
    },
    {
      "metadata": {
        "id": "WtUEYCA146ZE",
        "colab_type": "code",
        "outputId": "57f41d2a-107a-437d-8a13-f7fcfba70c22",
        "colab": {
          "base_uri": "https://localhost:8080/",
          "height": 54
        }
      },
      "cell_type": "code",
      "source": [
        "'''\n",
        "from tensorflow.python.keras.preprocessing.text import Tokenizer\n",
        "from tensorflow.python.keras.preprocessing.sequence import pad_sequences\n",
        "\n",
        "tokenizer_obj = Tokenizer()\n",
        "total_reviews = X\n",
        "tokenizer_obj.fit_on_texts(total_reviews)\n",
        "max_length = max([len(s.split())for s in total_reviews])\n",
        "vocab_size = len(tokenizer_obj.word_index) + 1\n",
        "\n",
        "X_train_tokens = tokenizer_obj.texts_to_sequences(X_train)\n",
        "X_test_tokens = tokenizer_obj.texts_to_sequences(X_test)\n",
        "\n",
        "X_train_pad = pad_sequences(X_train_tokens, maxlen=max_length, padding='post')\n",
        "X_test_pad = pad_sequences(X_test_tokens, maxlen=max_length, padding='post')\n",
        "'''"
      ],
      "execution_count": 35,
      "outputs": [
        {
          "output_type": "execute_result",
          "data": {
            "text/plain": [
              "\"\\nfrom tensorflow.python.keras.preprocessing.text import Tokenizer\\nfrom tensorflow.python.keras.preprocessing.sequence import pad_sequences\\n\\ntokenizer_obj = Tokenizer()\\ntotal_reviews = X\\ntokenizer_obj.fit_on_texts(total_reviews)\\nmax_length = max([len(s.split())for s in total_reviews])\\nvocab_size = len(tokenizer_obj.word_index) + 1\\n\\nX_train_tokens = tokenizer_obj.texts_to_sequences(X_train)\\nX_test_tokens = tokenizer_obj.texts_to_sequences(X_test)\\n\\nX_train_pad = pad_sequences(X_train_tokens, maxlen=max_length, padding='post')\\nX_test_pad = pad_sequences(X_test_tokens, maxlen=max_length, padding='post')\\n\""
            ]
          },
          "metadata": {
            "tags": []
          },
          "execution_count": 35
        }
      ]
    },
    {
      "metadata": {
        "id": "4PidmV7746VJ",
        "colab_type": "code",
        "outputId": "85170422-522f-4fb4-9a65-cc54eaf147ff",
        "colab": {
          "base_uri": "https://localhost:8080/",
          "height": 54
        }
      },
      "cell_type": "code",
      "source": [
        "'''\n",
        "#embedding_vecor_length = 100\n",
        "pretrained_weights = model_wv.wv.syn0\n",
        "vocab_size, emdedding_size = pretrained_weights.shape\n",
        "model = Sequential()\n",
        "#model.add(Embedding(vocab_size, embedding_vecor_length, input_length=max_length))\n",
        "model.add(Embedding(input_dim=vocab_size, output_dim=emdedding_size, weights=[pretrained_weights]))\n",
        "model.add(Dropout(0.5))\n",
        "model.add(LSTM(units=emdedding_size))\n",
        "#model.add(LSTM(100))\n",
        "#model.add(recurrent_dropout(0.2))\n",
        "model.add(Dense(32, activation='sigmoid'))\n",
        "model.add(Dense(1, activation='sigmoid'))\n",
        "model.compile(loss='binary_crossentropy', optimizer='adam', metrics=['accuracy'])\n",
        "print(model.summary())\n",
        "class_weights = class_weight.compute_class_weight('balanced',np.unique(y_train),y_train)\n",
        "model.fit(X_train_pad, y_train, epochs=5, batch_size=64, validation_data=(X_test_pad, y_test), class_weight=class_weights, shuffle=False, verbose=True)\n",
        "# Final evaluation of the model\n",
        "scores = model.evaluate(X_test_pad, y_test, verbose=0)\n",
        "print(\"Accuracy: %.2f%%\" % (scores[1]*100))\n",
        "'''"
      ],
      "execution_count": 36,
      "outputs": [
        {
          "output_type": "execute_result",
          "data": {
            "text/plain": [
              "'\\n#embedding_vecor_length = 100\\npretrained_weights = model_wv.wv.syn0\\nvocab_size, emdedding_size = pretrained_weights.shape\\nmodel = Sequential()\\n#model.add(Embedding(vocab_size, embedding_vecor_length, input_length=max_length))\\nmodel.add(Embedding(input_dim=vocab_size, output_dim=emdedding_size, weights=[pretrained_weights]))\\nmodel.add(Dropout(0.5))\\nmodel.add(LSTM(units=emdedding_size))\\n#model.add(LSTM(100))\\n#model.add(recurrent_dropout(0.2))\\nmodel.add(Dense(32, activation=\\'sigmoid\\'))\\nmodel.add(Dense(1, activation=\\'sigmoid\\'))\\nmodel.compile(loss=\\'binary_crossentropy\\', optimizer=\\'adam\\', metrics=[\\'accuracy\\'])\\nprint(model.summary())\\nclass_weights = class_weight.compute_class_weight(\\'balanced\\',np.unique(y_train),y_train)\\nmodel.fit(X_train_pad, y_train, epochs=5, batch_size=64, validation_data=(X_test_pad, y_test), class_weight=class_weights, shuffle=False, verbose=True)\\n# Final evaluation of the model\\nscores = model.evaluate(X_test_pad, y_test, verbose=0)\\nprint(\"Accuracy: %.2f%%\" % (scores[1]*100))\\n'"
            ]
          },
          "metadata": {
            "tags": []
          },
          "execution_count": 36
        }
      ]
    },
    {
      "metadata": {
        "id": "d5dAw4NJr1wA",
        "colab_type": "code",
        "colab": {}
      },
      "cell_type": "code",
      "source": [
        "from gensim.models import Word2Vec, FastText"
      ],
      "execution_count": 0,
      "outputs": []
    },
    {
      "metadata": {
        "id": "KQJRlUbisrhG",
        "colab_type": "code",
        "colab": {}
      },
      "cell_type": "code",
      "source": [
        "# define training data\n",
        "sentences1 = msg_lst\n",
        "sentences2 = []\n",
        "for jj in msg_lst:\n",
        "  sentences2.append(['_'.join(ii) for ii in list(nltk.bigrams(jj))])"
      ],
      "execution_count": 0,
      "outputs": []
    },
    {
      "metadata": {
        "id": "f96pRPcq_Vvj",
        "colab_type": "code",
        "colab": {}
      },
      "cell_type": "code",
      "source": [
        "sentences = sentences1 + sentences2"
      ],
      "execution_count": 0,
      "outputs": []
    },
    {
      "metadata": {
        "id": "BB3WtDVF_Sr0",
        "colab_type": "code",
        "outputId": "39fdfc5b-8cba-482d-8483-67ba11d06c7a",
        "colab": {
          "base_uri": "https://localhost:8080/",
          "height": 34
        }
      },
      "cell_type": "code",
      "source": [
        "'''\n",
        "import tqdm\n",
        "model_wv = FastText(sentences1, min_count=1, size=200, alpha=0.025, window=5, iter=200, workers=4, sg=1, negative=2)\n",
        "'''"
      ],
      "execution_count": 40,
      "outputs": [
        {
          "output_type": "execute_result",
          "data": {
            "text/plain": [
              "'\\nimport tqdm\\nmodel_wv = FastText(sentences1, min_count=1, size=200, alpha=0.025, window=5, iter=200, workers=4, sg=1, negative=2)\\n'"
            ]
          },
          "metadata": {
            "tags": []
          },
          "execution_count": 40
        }
      ]
    },
    {
      "metadata": {
        "id": "52rZObUmr72O",
        "colab_type": "code",
        "outputId": "b8299444-68fd-4523-da7b-fdf84d7cf079",
        "colab": {
          "base_uri": "https://localhost:8080/",
          "height": 34
        }
      },
      "cell_type": "code",
      "source": [
        "'''\n",
        "# summarize the loaded model\n",
        "print(model_wv)\n",
        "# summarize vocabulary\n",
        "words = list(model_wv.wv.vocab)\n",
        "print(words)\n",
        "# access vector for one word\n",
        "#print(model['try'])\n",
        "'''"
      ],
      "execution_count": 41,
      "outputs": [
        {
          "output_type": "execute_result",
          "data": {
            "text/plain": [
              "\"\\n# summarize the loaded model\\nprint(model_wv)\\n# summarize vocabulary\\nwords = list(model_wv.wv.vocab)\\nprint(words)\\n# access vector for one word\\n#print(model['try'])\\n\""
            ]
          },
          "metadata": {
            "tags": []
          },
          "execution_count": 41
        }
      ]
    },
    {
      "metadata": {
        "id": "SkbQsqEcsbvA",
        "colab_type": "code",
        "outputId": "42155bab-eb03-40f0-f149-9dc80ba28783",
        "colab": {
          "base_uri": "https://localhost:8080/",
          "height": 34
        }
      },
      "cell_type": "code",
      "source": [
        "'''\n",
        "model_wv.wv.most_similar('vaccine', topn=10)\n",
        "'''"
      ],
      "execution_count": 42,
      "outputs": [
        {
          "output_type": "execute_result",
          "data": {
            "text/plain": [
              "\"\\nmodel_wv.wv.most_similar('vaccine', topn=10)\\n\""
            ]
          },
          "metadata": {
            "tags": []
          },
          "execution_count": 42
        }
      ]
    },
    {
      "metadata": {
        "id": "GSQoN3mr46E0",
        "colab_type": "code",
        "outputId": "b166d89e-bdf3-4886-e786-559d5da45181",
        "colab": {
          "base_uri": "https://localhost:8080/",
          "height": 34
        }
      },
      "cell_type": "code",
      "source": [
        "'''\n",
        "# save model\n",
        "model_wv.save('/content/drive/My Drive/colab_work/model_wv.bin')\n",
        "# load model\n",
        "new_model = FastText.load('/content/drive/My Drive/colab_work/model_wv.bin')\n",
        "print(new_model)\n",
        "'''"
      ],
      "execution_count": 43,
      "outputs": [
        {
          "output_type": "execute_result",
          "data": {
            "text/plain": [
              "\"\\n# save model\\nmodel_wv.save('/content/drive/My Drive/colab_work/model_wv.bin')\\n# load model\\nnew_model = FastText.load('/content/drive/My Drive/colab_work/model_wv.bin')\\nprint(new_model)\\n\""
            ]
          },
          "metadata": {
            "tags": []
          },
          "execution_count": 43
        }
      ]
    },
    {
      "metadata": {
        "id": "0PJKk-Of457s",
        "colab_type": "code",
        "colab": {}
      },
      "cell_type": "code",
      "source": [
        ""
      ],
      "execution_count": 0,
      "outputs": []
    },
    {
      "metadata": {
        "id": "fIylMYuOG7ls",
        "colab_type": "text"
      },
      "cell_type": "markdown",
      "source": [
        "**<------------------------------------------------------- Doc2Vec ------------------------------------------------>**"
      ]
    },
    {
      "metadata": {
        "id": "nar_H2HW-C7k",
        "colab_type": "code",
        "colab": {}
      },
      "cell_type": "code",
      "source": [
        "from gensim.models.doc2vec import Doc2Vec, TaggedDocument"
      ],
      "execution_count": 0,
      "outputs": []
    },
    {
      "metadata": {
        "id": "T8GPM3GocZ6u",
        "colab_type": "code",
        "colab": {}
      },
      "cell_type": "code",
      "source": [
        "tagged_data = [TaggedDocument(words=_d, tags=[str(i)]) for i, _d in enumerate(sentences1)]"
      ],
      "execution_count": 0,
      "outputs": []
    },
    {
      "metadata": {
        "id": "1Y99-YSL-Cx1",
        "colab_type": "code",
        "outputId": "4f0301a6-11cb-4238-b151-00c07314221c",
        "colab": {
          "base_uri": "https://localhost:8080/",
          "height": 207
        }
      },
      "cell_type": "code",
      "source": [
        "tagged_data[:10]"
      ],
      "execution_count": 46,
      "outputs": [
        {
          "output_type": "execute_result",
          "data": {
            "text/plain": [
              "[TaggedDocument(words=['normally', 'flu', 'shoot', 'bother', 'much', 'try', 'get', 'one', 'every', 'year', 'month', 'ago', 'get', 'flu', 'shoot', 'one', 'arm', 'first', 'shingrix', 'new', 'shingle', 'vaccine', 'arm', 'next', 'day', 'drag', 'shingrix', 'arm', 'bite', 'sore', 'give', 'second', 'day', 'better', 'third', 'day', 'back', 'normal'], tags=['0']),\n",
              " TaggedDocument(words=['chadinabhan', 'williamdalemd', 'adamcifu', 'oncologybg', 'bldcancerdoc', 'recommend', 'shingrix', 'adults', 'include', 'post', 'bmt'], tags=['1']),\n",
              " TaggedDocument(words=['recommend', 'shingrix', 'adults', 'williamdalemd', 'adamcifu', 'oncologybg', 'bldcancerdoc'], tags=['2']),\n",
              " TaggedDocument(words=['dear', 'gsk', 'shingrix', 'vaccine', 'supply', 'problem', 'proper', 'prior', 'plan', 'prevent', 'piss', 'poor', 'performance', 'doubly', 'true', 'shingrix', 'two', 'dosage', 'vaccine'], tags=['3']),\n",
              " TaggedDocument(words=[\"i'll\", 'aspirational', 'usual', 'debbie', 'downers', 'physicians', 'region', 'frankly', 'cede', 'vaccinations', 'pharmacists', 'seriously', \"don't\", 'stock', 'many', 'vaccines', 'refer', 'patients', 'directly', 'us', 'huge', 'margin', 'item', 'pharmacies', 'push', 'top', 'bottom-line', 'growth', 'pharmacies', 'frankly', \"there's\", 'boom', 'shingrix', 'hepatitis', 'flu', 'vaccines', 'right', 'reflect', 'big', \"player's\", 'cvs', 'wba', 'upcoming', 'quarter'], tags=['4']),\n",
              " TaggedDocument(words=['lead', 'web', 'portal', 'pharmacy', 'resources', 'news', 'education', 'career', 'september', 'pharmacy', 'choice', 'pharmaceutical', 'news', 'pacific', 'health', 'fair', 'big', 'boost', 'medicare', 'beneficiaries', 'record', 'stockton', 'calif', 'september', 'pharmacy', 'news', 'article', 'pacific', 'health', 'fair', 'big', 'boost', 'medicare', 'beneficiaries', 'record', 'stockton', 'calif', 'sept', 'stockton', 'evidence', 'medicare', 'beneficiaries', 'attend', 'one', 'university', \"pacific's\", 'part', 'drug', 'plan', 'health', 'fair', 'past', 'years', 'save', 'average', 'annually', 'out-of-pocket', 'prescription', 'medicine', 'cost', 'total', \"pacific's\", 'student', 'pharmacists', 'volunteer', 'assist', 'seniors', 'medicare', 'beneficiaries', 'part', 'open', 'enrollment', 'oct', 'dec', 'save', 'area', 'residents', 'almost', 'million', 'date', 'help', 'find', 'best', 'drug', 'plan', 'individual', 'need', 'lowest', 'cost', 'open', 'enrollment', 'year', 'student', 'pharmacists', 'supervision', 'license', 'pharmacists', 'hold', 'eight', 'free', 'medicare', 'health', 'fair', 'throughout', 'san', 'joaquin', 'county', 'assist', 'beneficiaries', 'select', 'one', 'drug', 'plan', 'available', 'beneficiaries', 'drug', 'plan', 'already', 'know', 'insurance', 'company', 'change', 'plan', 'every', 'year', 'change', 'include', 'list', 'drug', 'cover', 'plan', 'monthly', 'premium', 'much', 'pay', 'pharmacy', 'prescriptions', 'co-payment', 'last', 'year', 'help', 'woman', 'pay', 'year', 'able', 'find', 'something', 'year', 'say', 'joseph', 'hashim', 'second-year', 'pharmacy', 'major', \"pacific's\", 'thomas', 'long', 'school', 'pharmacy', 'health', 'sciences', 'serve', 'spokesman', 'health', 'fair', 'every', 'year', 'able', 'bring', 'little', 'people', 'especially', 'people', 'really', 'need', 'hashim', 'hail', 'potomac', 'maryland', 'aspire', 'become', 'community', 'pharmacist', 'direct', 'contact', 'patients', 'many', 'people', 'assist', 'health', 'fair', 'may', 'language', 'barrier', \"they're\", 'confuse', \"medicare's\", 'online', 'selection', 'process', \"don't\", 'family', 'members', 'help', 'navigate', 'process', 'family', 'members', 'confuse', \"can't\", 'help', 'many', 'people', 'computer', 'son', 'daughter', \"don't\", 'know', 'leave', 'ridiculous', 'amount', 'issue', 'try', 'act', 'like', 'family', 'patients', 'think', 'us', 'younger', 'son', 'daughter', 'suppose', 'help', 'stuff', 'hashim', 'say', 'addition', 'assist', 'part', 'open', 'enrollment', 'fair', 'also', 'offer', 'free', 'health', 'screen', 'variety', 'condition', 'include', 'anemia', 'anxiety', 'test', 'asthma', 'copd', 'blood', 'pressure', 'bone', 'density', 'cholesterol', 'depression', 'diabetes', 'fall', 'risk', 'assessment', 'memory', 'sleep', 'disorder', 'high-dose', 'flu', 'vaccines', 'available', 'seniors', 'supply', 'last', 'well', 'standard', 'flu', 'vaccines', 'tdap', 'pneumovax', 'prevnar', 'vaccines', 'new', 'vaccine', 'shingle', 'also', 'may', 'available', 'call', 'shingrix', 'consider', 'effective', 'previous', 'vaccine', 'but', 'require', 'two', 'shots', 'within', 'two', 'six', 'months', 'apart', 'recognize', 'many', 'seniors', 'take', 'opioids', 'norco', 'vicodin', 'oxycontin', 'chronic', 'pain', 'daily', 'basis', 'understand', 'risk', 'associate', 'medications', 'students', 'distribute', 'dose', 'narcan', 'nasal', 'spray', 'use', 'event', 'overdose', 'typically', 'stop', \"patient's\", 'breathe', 'dose', 'cost', 'estimate', 'make', 'possible', 'partnership', 'pharmacy', 'school', 'san', 'joaquin', 'county', 'public', 'health', 'service', 'fund', 'provide', 'california', 'department', 'public', 'health', 'one', 'popular', 'aspects', 'health', 'fair', 'medication', 'therapy', 'management', 'patients', 'bring', 'meds', 'get', 'review', 'learn', 'take', 'assure', 'safe', 'take', 'together', 'time', 'new', 'year', 'pharmacy', 'students', 'review', \"patient's\", 'lab', 'value', 'bring', 'test', 'result', 'severe', 'drug-related', 'problems', 'find', 'beneficiaries', 'doctor', 'notify', 'past', 'years', 'severe', 'problems', 'detect', 'plan', 'attend', 'medicare', 'health', 'fair', 'bring', 'medicare', 'card', 'medications', 'copy', 'recent', 'lab', 'value', 'review', 'help', 'medicare', 'part', 'drug', 'plan', 'complete', 'drug', 'review', 'call', 'phone', 'number', 'list', 'event', 'make', 'appointment', 'oct', 'loel', 'senior', 'center', 'washington', 'st', 'lodi', 'oct', 'university', 'pacific', 'school', 'pharmacy', 'brookside', 'road', 'stockton', 'sponsor', 'event', 'know', 'dr', 'mariano', 'que', 'memorial', 'first', 'annual', 'medicare', 'health', 'fair', 'operation', 'bigay', 'lunas', 'oct', 'tracy', 'community', 'center', 'east', 'st', 'tracy', 'nov', 'bethany', 'home', 'nikkel', 'way', 'ripon', 'nov', 'sierra', 'vista', 'home', 'belleview', 'st', 'stockton', 'ask', 'free', 'transportation', 'event', 'nov', 'first', 'congregational', 'church', 'brookside', 'road', 'stockton', 'nov', 'hutchins', 'street', 'square', 'kirst', 'hall', 'hutchins', 'st', 'lodi', 'nov', \"o'connor\", 'woods', 'wagner', 'heights', 'road', 'stockton', 'general', 'information', 'regard', \"pacific's\", 'medicare', 'health', 'fair', 'visit', 'go', 'pacific', 'edu', 'medicare', 'question', 'contact', 'medicareclinics', 'pacific', 'edu', 'contact', 'reporter', 'joe', 'goldeen', 'jgoldeen', 'recordnet', 'com', 'follow', 'recordnet', 'com', 'goldeenblog', 'twitter', 'joegoldeen', 'record', 'stockton', 'calif'], tags=['5']),\n",
              " TaggedDocument(words=['gay', 'politics', 'gay', 'news', 'pointless', 'bitchery', 'since', 'call', 'doctor', 'dl', 'shingrix', 'market', 'say', 'better', 'zostavax', 'get', 'immunize', 'age', 'fifty', 'even', 'already', 'zostavax', 'vaccine', 'anybody', 'else', 'get', 'shingrix', 'already', 'get', 'zostavax', 'vaccine', 'doctor', 'know', \"i'm\", 'bite', 'hypochondriac', \"i'll\", 'ask', 'next', 'visit', 'anonymous', 'reply', 'hours', 'ago', 'doctor', 'fond', 'say', 'wait', 'quite', 'problems', 'old', 'vaccine', 'delay', 'risk', 'but', 'avoid', 'potentially', 'worse', 'risk', 'new', 'vaccine', 'anonymous', 'reply', 'hours', 'ago', 'little', 'bite', 'insurance', 'advice', 'medicare', 'zoster', 'vaccines', 'administration', 'consider', 'medicare', 'part', 'drug', 'part', 'medicare', 'advantage', 'plan', 'follow', 'medicare', 'also', 'treat', 'part', \"they're\", 'expensive', 'vaccines', 'compare', 'flu', 'vaccine', 'pharmacist', 'administer', 'vaccine', 'bill', 'medicare', 'insurance', 'great', 'but', 'pcp', 'give', 'vaccine', 'administer', 'probably', 'pay', 'vaccine', 'administration', 'submit', 'claim', 'medicare', 'rx', 'carrier', 'reimburse', 'big', 'stupid', 'unnecessary', 'hassle', 'call', 'insurer', 'confirm', \"they're\", 'cover', 'schedule', 'vaccine', 'sure', 'know', 'benefit', 'fall', 'anonymous', 'reply'], tags=['6']),\n",
              " TaggedDocument(words=['letter', 'unconscionable', 'shingrix', 'vaccine', 'shortage', 'unconscionable', 'shingrix', 'vaccine', 'shortage', 'editor', 'like', 'many', 'prescott', 'adults', 'seniors', 'unable', 'get', 'second', 'two', 'shingrix', 'shingle', 'vaccine', 'shots', 'couple', 'months', 'due', 'unexplained', 'scandalous', 'national', 'shortage', 'new', 'much', 'effective', 'shingle', 'vaccine', 'since', 'june', 'glaxo', 'smithkline', 'vaccine', 'manufacturer', 'limit', 'irregular', 'shipments', 'shots', 'per', 'pharmacy', 'time', 'skf', 'know', 'exactly', 'many', 'shots', 'would', 'need', 'base', 'number', 'first', 'shingrix', 'vaccination', 'shots', 'give', 'but', 'somehow', 'cannot', 'supply', 'need', 'second', 'shots', 'recommend', 'four-month', 'window', 'first', 'shingrix', 'shoot', 'two', 'six', 'months', 'get', 'second', 'senior', 'number', 'wait', 'list', 'local', 'safeway', 'pharmacy', 'but', 'one', 'tell', 'anyone', 'else', 'get', 'second', 'shingrix', 'shots', 'get', 'time', 'nobody', 'know', 'nobody', 'care', 'national', 'disgrace', 'one', 'every', 'three', 'american', 'adults', 'risk', 'shingle', 'painful', 'debilitate', 'disease', 'neither', 'cdc', 'fda', 'able', 'get', 'glaxosmithkline', 'quickly', 'resolve', 'critical', 'vaccine', 'shortage', 'totally', 'unacceptable', 'unforgiveable', 'millions', 'americans', 'health', 'risk', 'charge', 'responsible', 'fix', 'national', 'health', 'crisis', 'without', 'delay', 'wait', 'ed', 'greenhill', 'prescott'], tags=['7']),\n",
              " TaggedDocument(words=['shingrix', 'start', 'come', 'pharmacy', 'cheer', 'open', 'package', 'like', 'christmas'], tags=['8']),\n",
              " TaggedDocument(words=['aaaaaand', 'go'], tags=['9'])]"
            ]
          },
          "metadata": {
            "tags": []
          },
          "execution_count": 46
        }
      ]
    },
    {
      "metadata": {
        "id": "kjh0N8uk-CeA",
        "colab_type": "code",
        "colab": {}
      },
      "cell_type": "code",
      "source": [
        "model_dv = Doc2Vec(tagged_data, dm=0, vector_size=200, window=5, alpha=0.0025, seed=42, min_count=1, workers=4, epochs=100, negative=2, dbow_words=1)"
      ],
      "execution_count": 0,
      "outputs": []
    },
    {
      "metadata": {
        "id": "xzC5E87MjhMe",
        "colab_type": "code",
        "colab": {}
      },
      "cell_type": "code",
      "source": [
        "model_dv.save('/content/drive/My Drive/colab_work/mmodel_dv200_dm0_w5_2.model')"
      ],
      "execution_count": 0,
      "outputs": []
    },
    {
      "metadata": {
        "id": "r-cbjXdYVxVz",
        "colab_type": "code",
        "outputId": "f585773c-3278-45d3-f5ba-a07636b22f06",
        "colab": {
          "base_uri": "https://localhost:8080/",
          "height": 884
        }
      },
      "cell_type": "code",
      "source": [
        "model_dv.docvecs['1']"
      ],
      "execution_count": 0,
      "outputs": [
        {
          "output_type": "execute_result",
          "data": {
            "text/plain": [
              "array([-8.73902696e-04, -3.86409536e-02,  1.00185685e-02, -2.48212041e-03,\n",
              "        1.76647808e-02,  2.33550817e-02,  6.95888977e-03, -2.41936147e-02,\n",
              "       -3.43376920e-02,  1.03376457e-03,  5.87779582e-02,  6.33143168e-03,\n",
              "       -1.63015053e-02, -5.10918163e-03, -2.48085652e-02, -2.91392463e-03,\n",
              "        1.40132790e-03, -3.55064906e-02, -4.15686192e-03, -3.02425423e-03,\n",
              "        1.13352258e-02,  8.53264704e-04,  1.61505081e-02, -1.71646457e-02,\n",
              "       -1.73685253e-02, -8.17560405e-03,  1.89389978e-02,  5.72831742e-02,\n",
              "        1.12610403e-02, -2.94755679e-02, -3.57175097e-02,  5.82720060e-03,\n",
              "        3.16164941e-02,  8.06565024e-03, -2.07306724e-02, -6.23911014e-03,\n",
              "        5.02317399e-02, -1.88197959e-02, -2.80507654e-02, -1.19481105e-02,\n",
              "       -1.38828279e-02, -5.08378865e-03,  3.55631262e-02,  1.27960043e-02,\n",
              "       -4.62660380e-02,  3.47621879e-03,  3.92509289e-02, -6.21887203e-03,\n",
              "       -2.56560687e-02, -2.39128750e-02,  4.19105850e-02,  2.04011146e-02,\n",
              "        9.61243361e-03, -1.93594843e-02,  2.46727578e-02, -7.05933955e-04,\n",
              "        2.45193969e-02, -8.87295697e-03, -3.35598513e-02,  1.32842558e-02,\n",
              "        1.74597576e-02,  1.18392967e-02,  1.72992107e-02,  1.98587514e-02,\n",
              "        4.60528722e-03,  3.64965275e-02,  6.17481256e-03,  2.91641764e-02,\n",
              "       -1.62227992e-02, -1.86790917e-02,  6.87956670e-03, -1.07636396e-02,\n",
              "       -1.11141019e-02, -5.60489157e-03,  3.64981331e-02,  2.94243917e-02,\n",
              "        5.59004657e-02,  1.73153207e-02, -5.50195482e-03,  5.70454402e-03,\n",
              "       -2.10534688e-02, -1.42067357e-03,  1.62781719e-02,  2.09127907e-02,\n",
              "        2.68378630e-02, -1.16468603e-02,  1.79005787e-02,  4.61440868e-06,\n",
              "       -1.01841493e-02, -1.28105190e-02,  2.75882380e-03, -1.16890203e-02,\n",
              "        3.68991718e-02, -3.35428640e-02, -4.03279215e-02,  1.25495717e-02,\n",
              "        6.69292203e-05,  1.48410501e-03,  2.07922440e-02, -2.13481970e-02,\n",
              "        1.82454532e-03,  1.45332087e-02, -1.07337243e-03, -2.17789579e-02,\n",
              "       -1.24593265e-02, -7.64856581e-03, -4.68146466e-02, -1.63462702e-02,\n",
              "       -2.29521114e-02, -1.65056356e-03,  6.06047064e-02, -1.98226236e-02,\n",
              "       -3.66643607e-03,  1.31402090e-02,  4.55459617e-02, -7.11378269e-03,\n",
              "       -2.20868737e-02,  1.06255282e-02,  1.88380119e-03, -2.10407134e-02,\n",
              "        1.70359167e-03, -9.00785346e-03,  2.06417982e-02, -1.96813215e-02,\n",
              "       -1.01485234e-02,  1.86351705e-02, -7.82911899e-04,  4.54512163e-04,\n",
              "        4.08753864e-02,  4.30880347e-03, -2.15777028e-02,  3.40012275e-03,\n",
              "        2.20759735e-02, -2.24828199e-02,  9.93336434e-05,  1.94835681e-02,\n",
              "        2.01513935e-02,  3.52358702e-03, -1.16547104e-03,  3.68804410e-02,\n",
              "       -2.75638588e-02,  5.16728573e-02, -2.11593751e-02, -5.69323963e-03,\n",
              "       -7.02179177e-03, -1.79193378e-03, -3.07317805e-02,  3.03800367e-02,\n",
              "       -2.44991984e-02,  4.37923856e-02, -2.04974152e-02,  4.21667323e-02,\n",
              "        4.64999909e-03, -7.80491158e-03,  7.31621310e-03,  4.18814132e-03,\n",
              "        2.92102434e-02,  7.77970627e-03,  2.04612240e-02,  5.59476251e-03,\n",
              "        2.49041021e-02,  3.26714180e-02, -7.08996376e-05, -5.65564493e-03,\n",
              "        1.36976792e-02,  2.04222463e-02, -4.20716442e-02, -1.25390273e-02,\n",
              "        2.35345028e-02,  5.34110256e-02, -3.04341353e-02, -1.25412419e-02,\n",
              "        1.56715084e-02, -7.42824934e-03, -3.07434499e-02,  1.61770973e-02,\n",
              "       -2.63252519e-02,  2.75477506e-02, -2.53846403e-03,  4.55268659e-03,\n",
              "       -1.37371067e-02, -1.65214036e-02,  2.40940023e-02, -2.70121638e-02,\n",
              "        3.64788845e-02,  4.72558886e-02,  2.43956745e-02,  1.39876949e-02,\n",
              "        2.24634092e-02,  4.05999981e-02,  7.46497372e-03,  2.07148548e-02,\n",
              "        3.26958857e-03, -3.13167740e-03, -1.54973976e-02, -1.89928543e-02,\n",
              "        1.78645365e-02,  2.86179949e-02,  2.20230892e-02, -6.27025031e-03],\n",
              "      dtype=float32)"
            ]
          },
          "metadata": {
            "tags": []
          },
          "execution_count": 329
        }
      ]
    },
    {
      "metadata": {
        "id": "8oKe-NRiVxmL",
        "colab_type": "code",
        "colab": {}
      },
      "cell_type": "code",
      "source": [
        "#collections.Counter(np.array(dfs_eng['MessageType']))\n",
        "msg_type = ['_'.join(ii.strip().split())for ii in dfs_eng.MessageType]\n",
        "dfs_eng = dfs_eng.assign(msg_type = msg_type)\n",
        "pvt1 = pd.pivot_table(dfs_eng, index='UniversalMessageId', columns='msg_type', values='MessageType', aggfunc=len).reset_index()\n",
        "pvt1 = pvt1.fillna(0)"
      ],
      "execution_count": 0,
      "outputs": []
    },
    {
      "metadata": {
        "id": "o1ksqSG0Vxrs",
        "colab_type": "code",
        "outputId": "029f5b8c-27ad-4467-cb6c-32fbff2c622b",
        "colab": {
          "base_uri": "https://localhost:8080/",
          "height": 374
        }
      },
      "cell_type": "code",
      "source": [
        "collections.Counter(np.array(dfs_eng['msg_type']))"
      ],
      "execution_count": 48,
      "outputs": [
        {
          "output_type": "execute_result",
          "data": {
            "text/plain": [
              "Counter({'Blog_Comment': 4,\n",
              "         'Blog_Post': 40,\n",
              "         'Facebook_Comment': 7,\n",
              "         'Facebook_Messenger_(_Received_)': 4,\n",
              "         'Facebook_Post': 1,\n",
              "         'Forums': 500,\n",
              "         'Instagram_Comment': 1,\n",
              "         'Instagram_Mention': 1,\n",
              "         'Instagram_Post': 6,\n",
              "         'News': 193,\n",
              "         'Reddit_Post': 76,\n",
              "         'Reviews_Type': 1,\n",
              "         'Tumblr_Post': 19,\n",
              "         'Twitter_DM': 5,\n",
              "         'Twitter_Mention': 171,\n",
              "         'Twitter_Reply': 58,\n",
              "         'Twitter_Update': 83,\n",
              "         'WordPress_Comment': 1,\n",
              "         'WordPress_Post': 6,\n",
              "         'YouTube_Video': 6,\n",
              "         'YouTube_Video_Comment': 4})"
            ]
          },
          "metadata": {
            "tags": []
          },
          "execution_count": 48
        }
      ]
    },
    {
      "metadata": {
        "id": "mOk9gG3DYz4Q",
        "colab_type": "code",
        "colab": {}
      },
      "cell_type": "code",
      "source": [
        "#!pip install -U imbalanced-learn\n",
        "import imblearn"
      ],
      "execution_count": 0,
      "outputs": []
    },
    {
      "metadata": {
        "id": "TVf4a2-AVxu2",
        "colab_type": "code",
        "outputId": "11572121-9179-4cee-bdb1-f98cf13e9b43",
        "colab": {
          "base_uri": "https://localhost:8080/",
          "height": 54
        }
      },
      "cell_type": "code",
      "source": [
        "'''\n",
        "new_model_dv = Doc2Vec.load('/content/drive/My Drive/colab_work/mmodel_dv200_dm0_w5.model')\n",
        "model_dv = new_model_dv\n",
        "d2v_arr = model_dv.docvecs.vectors_docs\n",
        "feature1 = np.concatenate((d2v_arr, pvt1.values[:,1:]), axis=1)\n",
        "\n",
        "y = dfs_eng.Sentiment.loc[:].values\n",
        "le = preprocessing.LabelEncoder()\n",
        "le.fit(y)\n",
        "y_le = le.transform(y)\n",
        "\n",
        "print(collections.Counter(y_le))\n",
        "print(np.unique(y_le))\n",
        "print(np.bincount(y_le))\n",
        "print(y_le.shape[0]/(3*np.bincount(y_le)))\n",
        "\n",
        "keys = np.unique(y_le)\n",
        "#values = y_le.shape[0]/(3*np.bincount(y_le))\n",
        "values = np.array([70,20,200])\n",
        "dictionary = dict(zip(keys, values))\n",
        "print(dictionary)\n",
        "\n",
        "#dictionary = dict({0:math.ceil(1188/237), 1:math.ceil(1188/858), 2:math.ceil(1188/93)})\n",
        "#print(dictionary)\n",
        "\n",
        "tmp1 = pd.DataFrame(y_le, columns=['class'])\n",
        "#tmp1 = tmp1.replace({'class': {0: dictionary[0], 1: dictionary[1], 2: dictionary[2]}})\n",
        "tmp1 = tmp1['class'].map(dictionary)\n",
        "tmp1_arr = tmp1.values.reshape(tmp1.shape[0],)\n",
        "'''"
      ],
      "execution_count": 50,
      "outputs": [
        {
          "output_type": "execute_result",
          "data": {
            "text/plain": [
              "\"\\nnew_model_dv = Doc2Vec.load('/content/drive/My Drive/colab_work/mmodel_dv200_dm0_w5.model')\\nmodel_dv = new_model_dv\\nd2v_arr = model_dv.docvecs.vectors_docs\\nfeature1 = np.concatenate((d2v_arr, pvt1.values[:,1:]), axis=1)\\n\\ny = dfs_eng.Sentiment.loc[:].values\\nle = preprocessing.LabelEncoder()\\nle.fit(y)\\ny_le = le.transform(y)\\n\\nprint(collections.Counter(y_le))\\nprint(np.unique(y_le))\\nprint(np.bincount(y_le))\\nprint(y_le.shape[0]/(3*np.bincount(y_le)))\\n\\nkeys = np.unique(y_le)\\n#values = y_le.shape[0]/(3*np.bincount(y_le))\\nvalues = np.array([70,20,200])\\ndictionary = dict(zip(keys, values))\\nprint(dictionary)\\n\\n#dictionary = dict({0:math.ceil(1188/237), 1:math.ceil(1188/858), 2:math.ceil(1188/93)})\\n#print(dictionary)\\n\\ntmp1 = pd.DataFrame(y_le, columns=['class'])\\n#tmp1 = tmp1.replace({'class': {0: dictionary[0], 1: dictionary[1], 2: dictionary[2]}})\\ntmp1 = tmp1['class'].map(dictionary)\\ntmp1_arr = tmp1.values.reshape(tmp1.shape[0],)\\n\""
            ]
          },
          "metadata": {
            "tags": []
          },
          "execution_count": 50
        }
      ]
    },
    {
      "metadata": {
        "id": "hLkeZhOpk_Rf",
        "colab_type": "code",
        "outputId": "9b70ca42-ffc7-4938-fc4c-f17275358c2a",
        "colab": {
          "base_uri": "https://localhost:8080/",
          "height": 51
        }
      },
      "cell_type": "code",
      "source": [
        "from imblearn.datasets import make_imbalance\n",
        "from imblearn.under_sampling import NearMiss\n",
        "from imblearn.pipeline import make_pipeline\n",
        "from imblearn.metrics import classification_report_imbalanced\n",
        "from imblearn.over_sampling import SMOTE\n",
        "\n",
        "print(__doc__)\n",
        "\n",
        "new_model_dv = Doc2Vec.load('/content/drive/My Drive/colab_work/mmodel_dv200_dm0_w5_2.model')\n",
        "model_dv = new_model_dv\n",
        "d2v_arr = model_dv.docvecs.vectors_docs\n",
        "feature1 = np.concatenate((d2v_arr, pvt1.values[:,1:]), axis=1)\n",
        "\n",
        "y = dfs_eng.Sentiment.loc[:].values\n",
        "le = preprocessing.LabelEncoder()\n",
        "le.fit(y)\n",
        "y_le = le.transform(y)\n",
        "\n",
        "\n",
        "# Create a folder to fetch the dataset\n",
        "sm = SMOTE(random_state=42)\n",
        "feature2, y_le2 = sm.fit_resample(feature1, y_le)\n",
        "#feature2, y_le2 = make_imbalance(feature1, y_le, sampling_strategy={0: 25, 1: 25, 2: 35}, random_state=42)\n",
        "\n",
        "keys = np.unique(y_le2)\n",
        "values = y_le2.shape[0]/(3*np.bincount(y_le2))\n",
        "dictionary = dict(zip(keys, values))\n",
        "print(dictionary)\n",
        "\n",
        "tmp1 = pd.DataFrame(y_le2, columns=['class'])\n",
        "#tmp1 = tmp1.replace({'class': {0: dictionary[0], 1: dictionary[1], 2: dictionary[2]}})\n",
        "tmp1 = tmp1['class'].map(dictionary)\n",
        "tmp1_arr = tmp1.values.reshape(tmp1.shape[0],)\n",
        "\n",
        "X_train, X_test, y_train, y_test, smp_wt_train, smp_wt_test = train_test_split(feature2, y_le2, tmp1_arr, test_size=0.33, random_state=42)"
      ],
      "execution_count": 99,
      "outputs": [
        {
          "output_type": "stream",
          "text": [
            "Automatically created module for IPython interactive environment\n",
            "{0: 1.0, 1: 1.0, 2: 1.0}\n"
          ],
          "name": "stdout"
        }
      ]
    },
    {
      "metadata": {
        "id": "agdsoHOTvMFp",
        "colab_type": "code",
        "outputId": "cce7bfe7-b712-481d-932b-ee58bfb9ac63",
        "colab": {
          "base_uri": "https://localhost:8080/",
          "height": 34
        }
      },
      "cell_type": "code",
      "source": [
        "feature2.shape"
      ],
      "execution_count": 100,
      "outputs": [
        {
          "output_type": "execute_result",
          "data": {
            "text/plain": [
              "(2574, 221)"
            ]
          },
          "metadata": {
            "tags": []
          },
          "execution_count": 100
        }
      ]
    },
    {
      "metadata": {
        "id": "vFTjMTphk_N9",
        "colab_type": "code",
        "outputId": "3e4742ee-984c-4270-b119-87e90d71d777",
        "colab": {
          "base_uri": "https://localhost:8080/",
          "height": 544
        }
      },
      "cell_type": "code",
      "source": [
        "from sklearn.svm import SVC\n",
        "from sklearn.ensemble import GradientBoostingClassifier as GBC\n",
        "from sklearn.ensemble import RandomForestClassifier as RFC\n",
        "\n",
        "model_gbc = GBC(learning_rate=0.01, n_estimators=300, subsample=1, min_samples_split=0.025, min_weight_fraction_leaf=0.01, max_depth=8, random_state=42, max_features='log2', verbose=True)\n",
        "model_gbc.fit(X_train, y_train, sample_weight=smp_wt_train)\n",
        "#model_gbc.fit(X_train, y_train)\n",
        "\n",
        "#model_rfc = RFC(n_estimators=500, max_depth=8, min_samples_leaf=1, random_state=42, max_features=\"auto\", class_weight=dictionary, verbose=True)\n",
        "#model_rfc.fit(X_train, y_train)\n",
        "\n",
        "#model_svc = SVC(C=2, kernel='linear', gamma='auto', class_weight='balanced', decision_function_shape='ovo', random_state=42, verbose=True)\n",
        "#model_svc.fit(X_train, y_train)"
      ],
      "execution_count": 101,
      "outputs": [
        {
          "output_type": "stream",
          "text": [
            "      Iter       Train Loss   Remaining Time \n",
            "         1        1877.7740            4.71s\n",
            "         2        1861.7343            4.47s\n",
            "         3        1845.2654            4.40s\n",
            "         4        1829.4400            4.33s\n",
            "         5        1813.5508            4.31s\n",
            "         6        1797.1824            4.28s\n",
            "         7        1782.1081            4.27s\n",
            "         8        1767.7098            4.24s\n",
            "         9        1753.5517            4.21s\n",
            "        10        1738.8206            4.20s\n",
            "        20        1604.9807            4.08s\n",
            "        30        1486.3637            3.90s\n",
            "        40        1381.6423            3.74s\n",
            "        50        1287.9588            3.60s\n",
            "        60        1202.8312            3.46s\n",
            "        70        1126.9824            3.30s\n",
            "        80        1059.1979            3.17s\n",
            "        90         996.3908            3.02s\n",
            "       100         939.9410            2.88s\n",
            "       200         558.5961            1.43s\n",
            "       300         350.8022            0.00s\n"
          ],
          "name": "stdout"
        },
        {
          "output_type": "execute_result",
          "data": {
            "text/plain": [
              "GradientBoostingClassifier(criterion='friedman_mse', init=None,\n",
              "              learning_rate=0.01, loss='deviance', max_depth=8,\n",
              "              max_features='log2', max_leaf_nodes=None,\n",
              "              min_impurity_decrease=0.0, min_impurity_split=None,\n",
              "              min_samples_leaf=1, min_samples_split=0.025,\n",
              "              min_weight_fraction_leaf=0.01, n_estimators=300,\n",
              "              n_iter_no_change=None, presort='auto', random_state=42,\n",
              "              subsample=1, tol=0.0001, validation_fraction=0.1,\n",
              "              verbose=True, warm_start=False)"
            ]
          },
          "metadata": {
            "tags": []
          },
          "execution_count": 101
        }
      ]
    },
    {
      "metadata": {
        "id": "QlJ22oySzcuu",
        "colab_type": "code",
        "colab": {}
      },
      "cell_type": "code",
      "source": [
        "import pickle\n",
        "pickle.dump(model_gbc, open(\"/content/drive/My Drive/colab_work/model_gbc_2.dat\", \"wb\"))\n",
        "loaded_model = pickle.load(open(\"/content/drive/My Drive/colab_work/model_gbc_2.dat\", \"rb\"))"
      ],
      "execution_count": 0,
      "outputs": []
    },
    {
      "metadata": {
        "id": "tS3FFw96k--R",
        "colab_type": "code",
        "outputId": "3763cbc7-658f-4c52-b790-cdb879fc1b7a",
        "colab": {
          "base_uri": "https://localhost:8080/",
          "height": 527
        }
      },
      "cell_type": "code",
      "source": [
        "model_gbc = loaded_model\n",
        "\n",
        "prd_train = model_gbc.predict(X_train)\n",
        "prd_test = model_gbc.predict(X_test)\n",
        "prd = model_gbc.predict(feature2)\n",
        "\n",
        "\n",
        "from sklearn.metrics import classification_report\n",
        "y_true = y_train\n",
        "y_pred = prd_train\n",
        "target_names = ['NEGATIVE', 'NEUTRAL', 'POSITIVE']\n",
        "print(classification_report(y_true, y_pred, target_names=target_names))\n",
        "\n",
        "from sklearn.metrics import classification_report\n",
        "y_true = y_test\n",
        "y_pred = prd_test\n",
        "target_names = ['NEGATIVE', 'NEUTRAL', 'POSITIVE']\n",
        "print(classification_report(y_true, y_pred, target_names=target_names))\n",
        "\n",
        "from sklearn.metrics import classification_report\n",
        "y_true = y_le2\n",
        "y_pred = prd\n",
        "target_names = ['NEGATIVE', 'NEUTRAL', 'POSITIVE']\n",
        "print(classification_report(y_true, y_pred, target_names=target_names))"
      ],
      "execution_count": 103,
      "outputs": [
        {
          "output_type": "stream",
          "text": [
            "              precision    recall  f1-score   support\n",
            "\n",
            "    NEGATIVE       0.98      1.00      0.99       579\n",
            "     NEUTRAL       1.00      0.97      0.98       578\n",
            "    POSITIVE       0.98      1.00      0.99       567\n",
            "\n",
            "   micro avg       0.99      0.99      0.99      1724\n",
            "   macro avg       0.99      0.99      0.99      1724\n",
            "weighted avg       0.99      0.99      0.99      1724\n",
            "\n",
            "              precision    recall  f1-score   support\n",
            "\n",
            "    NEGATIVE       0.81      0.92      0.86       279\n",
            "     NEUTRAL       0.90      0.72      0.80       280\n",
            "    POSITIVE       0.91      0.97      0.94       291\n",
            "\n",
            "   micro avg       0.87      0.87      0.87       850\n",
            "   macro avg       0.87      0.87      0.87       850\n",
            "weighted avg       0.87      0.87      0.87       850\n",
            "\n",
            "              precision    recall  f1-score   support\n",
            "\n",
            "    NEGATIVE       0.92      0.97      0.95       858\n",
            "     NEUTRAL       0.97      0.89      0.93       858\n",
            "    POSITIVE       0.96      0.99      0.97       858\n",
            "\n",
            "   micro avg       0.95      0.95      0.95      2574\n",
            "   macro avg       0.95      0.95      0.95      2574\n",
            "weighted avg       0.95      0.95      0.95      2574\n",
            "\n"
          ],
          "name": "stdout"
        }
      ]
    },
    {
      "metadata": {
        "id": "jVrwuxMUVxya",
        "colab_type": "code",
        "outputId": "b073e0c5-4db9-4bd7-bb83-6da40ba1cb1d",
        "colab": {
          "base_uri": "https://localhost:8080/",
          "height": 731
        }
      },
      "cell_type": "code",
      "source": [
        "from sklearn.metrics import classification_report\n",
        "X_train, X_test, y_train, y_test = train_test_split(feature1, y_le, test_size=0.33, random_state=42)\n",
        "\n",
        "\n",
        "prd_train = model_gbc.predict(X_train)\n",
        "prd_test = model_gbc.predict(X_test)\n",
        "prd = model_gbc.predict(feature1)\n",
        "\n",
        "\n",
        "print('<------------------ Model Evaluation Results ---------------------->')\n",
        "\n",
        "print('\\n<---------- Model Evaluation Results on Training Dataset ----------->\\n')\n",
        "y_true = y_train\n",
        "y_pred = prd_train\n",
        "target_names = ['NEGATIVE', 'NEUTRAL', 'POSITIVE']\n",
        "print(classification_report(y_true, y_pred, target_names=target_names))\n",
        "\n",
        "\n",
        "print('\\n\\n<------ Model Evaluation Results on Validation Dataset ----------->\\n')\n",
        "y_true = y_test\n",
        "y_pred = prd_test\n",
        "target_names = ['NEGATIVE', 'NEUTRAL', 'POSITIVE']\n",
        "print(classification_report(y_true, y_pred, target_names=target_names))\n",
        "\n",
        "\n",
        "print('\\n\\n<--------- Model Evaluation Results on Whole Dataset ------------->\\n')\n",
        "y_true = y_le\n",
        "y_pred = prd\n",
        "target_names = ['NEGATIVE', 'NEUTRAL', 'POSITIVE']\n",
        "print(classification_report(y_true, y_pred, target_names=target_names))\n",
        "\n",
        "\n"
      ],
      "execution_count": 150,
      "outputs": [
        {
          "output_type": "stream",
          "text": [
            "<------------------ Model Evaluation Results ---------------------->\n",
            "\n",
            "<---------- Model Evaluation Results on Training Dataset ----------->\n",
            "\n",
            "              precision    recall  f1-score   support\n",
            "\n",
            "    NEGATIVE       0.82      0.96      0.88       160\n",
            "     NEUTRAL       0.98      0.90      0.94       572\n",
            "    POSITIVE       0.71      0.97      0.82        63\n",
            "\n",
            "   micro avg       0.92      0.92      0.92       795\n",
            "   macro avg       0.84      0.94      0.88       795\n",
            "weighted avg       0.93      0.92      0.92       795\n",
            "\n",
            "\n",
            "\n",
            "<------ Model Evaluation Results on Validation Dataset ----------->\n",
            "\n",
            "              precision    recall  f1-score   support\n",
            "\n",
            "    NEGATIVE       0.69      0.94      0.79        77\n",
            "     NEUTRAL       0.98      0.86      0.92       286\n",
            "    POSITIVE       0.77      0.93      0.84        29\n",
            "\n",
            "   micro avg       0.88      0.88      0.88       392\n",
            "   macro avg       0.81      0.91      0.85       392\n",
            "weighted avg       0.91      0.88      0.89       392\n",
            "\n",
            "\n",
            "\n",
            "<--------- Model Evaluation Results on Whole Dataset ------------->\n",
            "\n",
            "              precision    recall  f1-score   support\n",
            "\n",
            "    NEGATIVE       0.77      0.95      0.85       237\n",
            "     NEUTRAL       0.98      0.89      0.93       858\n",
            "    POSITIVE       0.73      0.96      0.83        92\n",
            "\n",
            "   micro avg       0.90      0.90      0.90      1187\n",
            "   macro avg       0.83      0.93      0.87      1187\n",
            "weighted avg       0.92      0.90      0.91      1187\n",
            "\n"
          ],
          "name": "stdout"
        }
      ]
    },
    {
      "metadata": {
        "id": "kFoz_frLKkqL",
        "colab_type": "code",
        "colab": {}
      },
      "cell_type": "code",
      "source": [
        "#!pip install scikit-plot\n",
        "import scikitplot as skplt"
      ],
      "execution_count": 0,
      "outputs": []
    },
    {
      "metadata": {
        "id": "DteZLVocJeUY",
        "colab_type": "code",
        "colab": {
          "base_uri": "https://localhost:8080/",
          "height": 1025
        },
        "outputId": "a2bd10f6-17e3-4570-fc44-386646c8e385"
      },
      "cell_type": "code",
      "source": [
        "prd_train = model_gbc.predict_proba(X_train)\n",
        "prd_test = model_gbc.predict_proba(X_test)\n",
        "prd = model_gbc.predict_proba(feature1)\n",
        "\n",
        "\n",
        "y_true = y_train\n",
        "y_pred = prd_train\n",
        "\n",
        "\n",
        "\n",
        "skplt.metrics.plot_roc_curve(y_true, y_pred)\n",
        "plt.axis(\"on\")\n",
        "plt.tight_layout(pad=0)\n",
        "plt.title('Training Data ROC Plot')\n",
        "plt.show()\n",
        "#fig.savefig('/content/drive/My Drive/colab_work/plot.png')\n",
        "\n",
        "#skplt.metrics.plot_precision_recall_curve(y_true, y_pred)\n",
        "#plt.legend(loc=4)\n",
        "#plt.show()\n",
        "\n",
        "\n",
        "y_true = y_test\n",
        "y_pred = prd_test\n",
        "\n",
        "skplt.metrics.plot_roc_curve(y_true, y_pred)\n",
        "plt.axis(\"on\")\n",
        "plt.tight_layout(pad=0)\n",
        "plt.title('Validation data ROC Plot')\n",
        "plt.show()\n",
        "\n",
        "\n",
        "\n",
        "y_true = y_le\n",
        "y_pred = prd\n",
        "\n",
        "skplt.metrics.plot_roc_curve(y_true, y_pred)\n",
        "plt.axis(\"on\")\n",
        "plt.tight_layout(pad=0)\n",
        "plt.title('Complete Data ROC Plot')\n",
        "plt.show()"
      ],
      "execution_count": 177,
      "outputs": [
        {
          "output_type": "stream",
          "text": [
            "/usr/local/lib/python3.6/dist-packages/sklearn/utils/deprecation.py:77: DeprecationWarning: Function plot_roc_curve is deprecated; This will be removed in v0.5.0. Please use scikitplot.metrics.plot_roc instead.\n",
            "  warnings.warn(msg, category=DeprecationWarning)\n"
          ],
          "name": "stderr"
        },
        {
          "output_type": "display_data",
          "data": {
            "image/png": "[encoded data removed]",
            "text/plain": [
              "<Figure size 432x288 with 1 Axes>"
            ]
          },
          "metadata": {
            "tags": []
          }
        },
        {
          "output_type": "stream",
          "text": [
            "/usr/local/lib/python3.6/dist-packages/sklearn/utils/deprecation.py:77: DeprecationWarning: Function plot_roc_curve is deprecated; This will be removed in v0.5.0. Please use scikitplot.metrics.plot_roc instead.\n",
            "  warnings.warn(msg, category=DeprecationWarning)\n"
          ],
          "name": "stderr"
        },
        {
          "output_type": "display_data",
          "data": {
            "image/png": "[encoded data removed]",
            "text/plain": [
              "<Figure size 432x288 with 1 Axes>"
            ]
          },
          "metadata": {
            "tags": []
          }
        },
        {
          "output_type": "stream",
          "text": [
            "/usr/local/lib/python3.6/dist-packages/sklearn/utils/deprecation.py:77: DeprecationWarning: Function plot_roc_curve is deprecated; This will be removed in v0.5.0. Please use scikitplot.metrics.plot_roc instead.\n",
            "  warnings.warn(msg, category=DeprecationWarning)\n"
          ],
          "name": "stderr"
        },
        {
          "output_type": "display_data",
          "data": {
            "image/png": "[encoded data removed]",
            "text/plain": [
              "<Figure size 432x288 with 1 Axes>"
            ]
          },
          "metadata": {
            "tags": []
          }
        }
      ]
    },
    {
      "metadata": {
        "id": "hqoWykDFJePE",
        "colab_type": "code",
        "colab": {
          "base_uri": "https://localhost:8080/",
          "height": 34
        },
        "outputId": "22d63bf1-aab6-46d7-bff2-5db77af45260"
      },
      "cell_type": "code",
      "source": [
        "plt"
      ],
      "execution_count": 151,
      "outputs": [
        {
          "output_type": "execute_result",
          "data": {
            "text/plain": [
              "<module 'matplotlib.pyplot' from '/usr/local/lib/python3.6/dist-packages/matplotlib/pyplot.py'>"
            ]
          },
          "metadata": {
            "tags": []
          },
          "execution_count": 151
        }
      ]
    },
    {
      "metadata": {
        "id": "6gy0LUCyJeJp",
        "colab_type": "code",
        "colab": {}
      },
      "cell_type": "code",
      "source": [
        ""
      ],
      "execution_count": 0,
      "outputs": []
    },
    {
      "metadata": {
        "id": "lKZ9ggBZJd-i",
        "colab_type": "code",
        "colab": {}
      },
      "cell_type": "code",
      "source": [
        ""
      ],
      "execution_count": 0,
      "outputs": []
    },
    {
      "metadata": {
        "id": "nqqqbE4wtM3O",
        "colab_type": "code",
        "colab": {}
      },
      "cell_type": "code",
      "source": [
        "res1 = classification_report(y_true, y_pred, target_names=target_names, output_dict=True)"
      ],
      "execution_count": 0,
      "outputs": []
    },
    {
      "metadata": {
        "id": "JLjCxMy3uviP",
        "colab_type": "code",
        "colab": {
          "base_uri": "https://localhost:8080/",
          "height": 142
        },
        "outputId": "e0d7cfc7-98d0-4dc9-89cb-2ebfedcf203a"
      },
      "cell_type": "code",
      "source": [
        "#res1.keys()\n",
        "res2 = {ii: res1[ii] for ii in ['NEGATIVE','POSITIVE','NEUTRAL']}\n",
        "pd.DataFrame(res2).T"
      ],
      "execution_count": 138,
      "outputs": [
        {
          "output_type": "execute_result",
          "data": {
            "text/html": [
              "<div>\n",
              "<style scoped>\n",
              "    .dataframe tbody tr th:only-of-type {\n",
              "        vertical-align: middle;\n",
              "    }\n",
              "\n",
              "    .dataframe tbody tr th {\n",
              "        vertical-align: top;\n",
              "    }\n",
              "\n",
              "    .dataframe thead th {\n",
              "        text-align: right;\n",
              "    }\n",
              "</style>\n",
              "<table border=\"1\" class=\"dataframe\">\n",
              "  <thead>\n",
              "    <tr style=\"text-align: right;\">\n",
              "      <th></th>\n",
              "      <th>f1-score</th>\n",
              "      <th>precision</th>\n",
              "      <th>recall</th>\n",
              "      <th>support</th>\n",
              "    </tr>\n",
              "  </thead>\n",
              "  <tbody>\n",
              "    <tr>\n",
              "      <th>NEGATIVE</th>\n",
              "      <td>0.852273</td>\n",
              "      <td>0.773196</td>\n",
              "      <td>0.949367</td>\n",
              "      <td>237.0</td>\n",
              "    </tr>\n",
              "    <tr>\n",
              "      <th>NEUTRAL</th>\n",
              "      <td>0.932027</td>\n",
              "      <td>0.981935</td>\n",
              "      <td>0.886946</td>\n",
              "      <td>858.0</td>\n",
              "    </tr>\n",
              "    <tr>\n",
              "      <th>POSITIVE</th>\n",
              "      <td>0.826291</td>\n",
              "      <td>0.727273</td>\n",
              "      <td>0.956522</td>\n",
              "      <td>92.0</td>\n",
              "    </tr>\n",
              "  </tbody>\n",
              "</table>\n",
              "</div>"
            ],
            "text/plain": [
              "          f1-score  precision    recall  support\n",
              "NEGATIVE  0.852273   0.773196  0.949367    237.0\n",
              "NEUTRAL   0.932027   0.981935  0.886946    858.0\n",
              "POSITIVE  0.826291   0.727273  0.956522     92.0"
            ]
          },
          "metadata": {
            "tags": []
          },
          "execution_count": 138
        }
      ]
    },
    {
      "metadata": {
        "id": "n2_baU_ZtXL5",
        "colab_type": "code",
        "colab": {
          "base_uri": "https://localhost:8080/",
          "height": 85
        },
        "outputId": "b125f16b-afcb-4d05-e6f7-9c150edd54c6"
      },
      "cell_type": "code",
      "source": [
        "from sklearn.metrics import precision_recall_fscore_support\n",
        "precision_recall_fscore_support(y_true, y_pred, average=None)"
      ],
      "execution_count": 113,
      "outputs": [
        {
          "output_type": "execute_result",
          "data": {
            "text/plain": [
              "(array([0.77319588, 0.98193548, 0.72727273]),\n",
              " array([0.94936709, 0.88694639, 0.95652174]),\n",
              " array([0.85227273, 0.93202694, 0.82629108]),\n",
              " array([237, 858,  92]))"
            ]
          },
          "metadata": {
            "tags": []
          },
          "execution_count": 113
        }
      ]
    },
    {
      "metadata": {
        "id": "JqjI--VyVx2a",
        "colab_type": "code",
        "outputId": "183350fa-be4c-445a-f83f-301dfe21e02f",
        "colab": {
          "base_uri": "https://localhost:8080/",
          "height": 34
        }
      },
      "cell_type": "code",
      "source": [
        "q1 = (0.96*160+0.9*572+0.97*63)/795\n",
        "q2 = (0.94*77+0.86*286+0.93*29)/392\n",
        "q3 = (0.95*237+0.89*858+0.96*92)/1187\n",
        "print('train acc = ',q1, ', test acc = ',q2, ', total acc = ',q3)"
      ],
      "execution_count": 52,
      "outputs": [
        {
          "output_type": "stream",
          "text": [
            "train acc =  0.9176226415094341 , test acc =  0.8808928571428573 , total acc =  0.9074052232518954\n"
          ],
          "name": "stdout"
        }
      ]
    },
    {
      "metadata": {
        "id": "jLgutMg9IlWj",
        "colab_type": "code",
        "colab": {}
      },
      "cell_type": "code",
      "source": [
        "?classification_report"
      ],
      "execution_count": 0,
      "outputs": []
    },
    {
      "metadata": {
        "id": "D6-7wW1SIld6",
        "colab_type": "code",
        "colab": {}
      },
      "cell_type": "code",
      "source": [
        ""
      ],
      "execution_count": 0,
      "outputs": []
    },
    {
      "metadata": {
        "id": "zVMTR1oMP8it",
        "colab_type": "code",
        "colab": {}
      },
      "cell_type": "code",
      "source": [
        ""
      ],
      "execution_count": 0,
      "outputs": []
    },
    {
      "metadata": {
        "id": "RJ0zMzhPINeZ",
        "colab_type": "code",
        "colab": {}
      },
      "cell_type": "code",
      "source": [
        "msg_lst_comb = [' '.join(jj) for jj in msg_lst]\n",
        "rr1 = pd.pivot_table(dfs_eng, index=['Sentiment','MessageType'], values=['UniversalMessageId'], aggfunc=len).reset_index()\n",
        "rr1 = rr1.sort_values(by=['UniversalMessageId'], ascending=[False])\n",
        "rr2 = rr1[(rr1.Sentiment!='NEUTRAL') & (rr1.UniversalMessageId>=7)][['Sentiment','MessageType']].values\n",
        "rr2"
      ],
      "execution_count": 0,
      "outputs": []
    },
    {
      "metadata": {
        "id": "cN3ssN4_IlnO",
        "colab_type": "code",
        "colab": {}
      },
      "cell_type": "code",
      "source": [
        "from sklearn.feature_extraction.text import CountVectorizer, TfidfVectorizer\n",
        "df_test = pd.DataFrame({'msg': msg_lst_comb, 'class':list(dfs_eng.Sentiment.loc[:].values), 'msg_type':list(dfs_eng.MessageType.loc[:].values)})\n",
        "#for ii in np.unique(dfs_eng.Sentiment.loc[:].values):\n",
        "for ii in rr2:\n",
        "  tmp1 = df_test[(df_test['class']==ii[0]) & (df_test['msg_type']==ii[1])]\n",
        "  tmp2 = list(tmp1.msg)\n",
        "  vectorizer = CountVectorizer(ngram_range=(1,4), binary=False, analyzer='word')\n",
        "  X_cnt_vec = vectorizer.fit_transform(tmp2)\n",
        "  X_cnt_vec = X_cnt_vec.toarray()\n",
        "  n_gram = [len(ii.split()) for ii in vectorizer.get_feature_names()]\n",
        "  dt1 = pd.DataFrame(X_cnt_vec, columns=vectorizer.get_feature_names())\n",
        "  word_cnt_df_sum1 = dt1.sum(axis=0)\n",
        "  TF_df = pd.DataFrame({'1_to_4_gram_words': vectorizer.get_feature_names(), 'TF': list(word_cnt_df_sum1), 'n_gram':n_gram})\n",
        "  vectorizer = CountVectorizer(ngram_range=(1,4), binary=True, analyzer='word')\n",
        "  X_cnt_vec = vectorizer.fit_transform(tmp2)\n",
        "  X_cnt_vec = X_cnt_vec.toarray()\n",
        "  #n_gram = [len(ii.split()) for ii in vectorizer.get_feature_names()]\n",
        "  dt1 = pd.DataFrame(X_cnt_vec, columns=vectorizer.get_feature_names())\n",
        "  word_cnt_df_sum1 = dt1.sum(axis=0)\n",
        "  DF_df = pd.DataFrame({'1_to_4_gram_words': vectorizer.get_feature_names(), 'DF': list(word_cnt_df_sum1)})\n",
        "  Fin_df = pd.merge(TF_df, DF_df, left_on='1_to_4_gram_words', right_on='1_to_4_gram_words', how='left')\n",
        "  s1 = '/content/drive/My Drive/colab_work/' + str(ii[0]) + '_' + str(ii[1]) + '.csv'\n",
        "  Fin_df.to_csv(s1, sep=',', index=False)\n",
        "  \n",
        "  \n",
        "  \n",
        "  "
      ],
      "execution_count": 0,
      "outputs": []
    },
    {
      "metadata": {
        "id": "_Atx5qYAImrg",
        "colab_type": "code",
        "colab": {}
      },
      "cell_type": "code",
      "source": [
        ""
      ],
      "execution_count": 0,
      "outputs": []
    },
    {
      "metadata": {
        "id": "7tR0YCDxIm0E",
        "colab_type": "code",
        "colab": {}
      },
      "cell_type": "code",
      "source": [
        ""
      ],
      "execution_count": 0,
      "outputs": []
    },
    {
      "metadata": {
        "id": "y6wLiNsVVx7p",
        "colab_type": "code",
        "colab": {}
      },
      "cell_type": "code",
      "source": [
        ""
      ],
      "execution_count": 0,
      "outputs": []
    },
    {
      "metadata": {
        "id": "rv-OwSi97zwL",
        "colab_type": "text"
      },
      "cell_type": "markdown",
      "source": [
        "#**<----------------- Doc2Vec + Clustering ----------------------->**\n",
        "\n",
        "1.   Vectors of Doc2Vec\n",
        "2.   Clustering through K-Means or any other clustering method\n",
        "\n",
        "**bold text**"
      ]
    },
    {
      "metadata": {
        "id": "zIJji8_ZVx-r",
        "colab_type": "code",
        "colab": {}
      },
      "cell_type": "code",
      "source": [
        "new_model_dv = Doc2Vec.load('/content/drive/My Drive/colab_work/mmodel_dv200_dm0_w5_2.model')\n",
        "d2v_emmb = new_model_dv.docvecs.vectors_docs"
      ],
      "execution_count": 0,
      "outputs": []
    },
    {
      "metadata": {
        "id": "Mr9rreLuVyDJ",
        "colab_type": "code",
        "colab": {}
      },
      "cell_type": "code",
      "source": [
        "from sklearn.cluster import KMeans, DBSCAN\n",
        "from sklearn.metrics import pairwise_distances, silhouette_score, calinski_harabaz_score\n",
        "from sklearn import preprocessing\n",
        "\n",
        "#X_Norm = preprocessing.normalize(d2v_emmb)\n",
        "#km2 = cluster.KMeans(n_clusters=5,init='random').fit(d2v_emmb)\n",
        "\n",
        "#kmeans = KMeans(n_clusters=4, random_state=42, verbose=False).fit(d2v_emmb)\n",
        "kmeans = DBSCAN(eps=2, n_jobs=-1, min_samples=8).fit(d2v_emmb)\n",
        "\n",
        "d2v_emmb_cls = np.concatenate((d2v_emmb, kmeans.labels_.reshape(d2v_emmb.shape[0],1)), axis=1)\n",
        "d2v_emmb_cls_df = pd.DataFrame(d2v_emmb_cls)\n"
      ],
      "execution_count": 0,
      "outputs": []
    },
    {
      "metadata": {
        "id": "HdTcTf8oBj93",
        "colab_type": "code",
        "outputId": "f64a32d3-7267-41f5-9bcc-85791055fb3e",
        "colab": {
          "base_uri": "https://localhost:8080/",
          "height": 34
        }
      },
      "cell_type": "code",
      "source": [
        "kmeans.labels_"
      ],
      "execution_count": 0,
      "outputs": [
        {
          "output_type": "execute_result",
          "data": {
            "text/plain": [
              "array([0, 0, 0, ..., 0, 0, 0])"
            ]
          },
          "metadata": {
            "tags": []
          },
          "execution_count": 228
        }
      ]
    },
    {
      "metadata": {
        "id": "gHWUadZiv4b1",
        "colab_type": "code",
        "outputId": "ebfac604-171d-4fdd-be01-d11500902b1e",
        "colab": {
          "base_uri": "https://localhost:8080/",
          "height": 68
        }
      },
      "cell_type": "code",
      "source": [
        "print(np.unique(kmeans.labels_))\n",
        "print(silhouette_score(d2v_emmb, kmeans.labels_, metric='euclidean'))\n",
        "print(calinski_harabaz_score(d2v_emmb, kmeans.labels_))\n"
      ],
      "execution_count": 0,
      "outputs": [
        {
          "output_type": "stream",
          "text": [
            "[-1  0  1  2  3]\n",
            "0.6704527\n",
            "143.90858769057508\n"
          ],
          "name": "stdout"
        }
      ]
    },
    {
      "metadata": {
        "id": "aX8Mehl03wgA",
        "colab_type": "code",
        "colab": {}
      },
      "cell_type": "code",
      "source": [
        "#!pip install tmd\n",
        "from tqdm import tqdm_notebook"
      ],
      "execution_count": 0,
      "outputs": []
    },
    {
      "metadata": {
        "id": "TtX1vYe2xOnS",
        "colab_type": "code",
        "outputId": "bb266d33-f15c-495a-d3dc-e68cddfb21b1",
        "colab": {
          "base_uri": "https://localhost:8080/",
          "height": 51
        }
      },
      "cell_type": "code",
      "source": [
        "#import tqdm\n",
        "cp = [(x, y) for x in [1,2,3,4,5,6,7,8] for y in range(1,21)]\n",
        "dbscan_res_arr = []\n",
        "for jj in tqdm_notebook(cp):\n",
        "  kmeans = DBSCAN(eps=jj[0], n_jobs=-1, min_samples=jj[1]).fit(xx_embedded)\n",
        "  v1 = np.unique(kmeans.labels_)\n",
        "  if len(v1)>1:\n",
        "    v2 = silhouette_score(xx_embedded, kmeans.labels_, metric='euclidean')\n",
        "    v3 = calinski_harabaz_score(xx_embedded, kmeans.labels_)\n",
        "    dbscan_res_arr.append([jj[0], jj[1], len(v1), v2, v3])\n"
      ],
      "execution_count": 0,
      "outputs": [
        {
          "output_type": "display_data",
          "data": {
            "application/vnd.jupyter.widget-view+json": {
              "model_id": "9978518a4c744f6197bbb79210f41b23",
              "version_minor": 0,
              "version_major": 2
            },
            "text/plain": [
              "HBox(children=(IntProgress(value=0, max=160), HTML(value='')))"
            ]
          },
          "metadata": {
            "tags": []
          }
        },
        {
          "output_type": "stream",
          "text": [
            "\n"
          ],
          "name": "stdout"
        }
      ]
    },
    {
      "metadata": {
        "id": "-0l8kyWTyn-t",
        "colab_type": "code",
        "colab": {}
      },
      "cell_type": "code",
      "source": [
        "dbscan_res_df = pd.DataFrame(dbscan_res_arr, columns=['eps','min_sample','num_cluster','silhouette_score','calinski_harabaz_score'])"
      ],
      "execution_count": 0,
      "outputs": []
    },
    {
      "metadata": {
        "id": "cfLEEWzF0sJg",
        "colab_type": "code",
        "outputId": "aea348b5-5f12-458f-c146-476d4c8e4067",
        "colab": {
          "base_uri": "https://localhost:8080/",
          "height": 1969
        }
      },
      "cell_type": "code",
      "source": [
        "dbscan_res_df[dbscan_res_df.silhouette_score>0].sort_values(by=['silhouette_score'], ascending=[0]).head(100)"
      ],
      "execution_count": 0,
      "outputs": [
        {
          "output_type": "execute_result",
          "data": {
            "text/html": [
              "<div>\n",
              "<style scoped>\n",
              "    .dataframe tbody tr th:only-of-type {\n",
              "        vertical-align: middle;\n",
              "    }\n",
              "\n",
              "    .dataframe tbody tr th {\n",
              "        vertical-align: top;\n",
              "    }\n",
              "\n",
              "    .dataframe thead th {\n",
              "        text-align: right;\n",
              "    }\n",
              "</style>\n",
              "<table border=\"1\" class=\"dataframe\">\n",
              "  <thead>\n",
              "    <tr style=\"text-align: right;\">\n",
              "      <th></th>\n",
              "      <th>eps</th>\n",
              "      <th>min_sample</th>\n",
              "      <th>num_cluster</th>\n",
              "      <th>silhouette_score</th>\n",
              "      <th>calinski_harabaz_score</th>\n",
              "    </tr>\n",
              "  </thead>\n",
              "  <tbody>\n",
              "    <tr>\n",
              "      <th>0</th>\n",
              "      <td>1</td>\n",
              "      <td>1</td>\n",
              "      <td>696</td>\n",
              "      <td>0.472400</td>\n",
              "      <td>1353.043698</td>\n",
              "    </tr>\n",
              "    <tr>\n",
              "      <th>86</th>\n",
              "      <td>6</td>\n",
              "      <td>1</td>\n",
              "      <td>2</td>\n",
              "      <td>0.318457</td>\n",
              "      <td>150.045278</td>\n",
              "    </tr>\n",
              "    <tr>\n",
              "      <th>104</th>\n",
              "      <td>6</td>\n",
              "      <td>19</td>\n",
              "      <td>2</td>\n",
              "      <td>0.318457</td>\n",
              "      <td>150.045278</td>\n",
              "    </tr>\n",
              "    <tr>\n",
              "      <th>103</th>\n",
              "      <td>6</td>\n",
              "      <td>18</td>\n",
              "      <td>2</td>\n",
              "      <td>0.318457</td>\n",
              "      <td>150.045278</td>\n",
              "    </tr>\n",
              "    <tr>\n",
              "      <th>102</th>\n",
              "      <td>6</td>\n",
              "      <td>17</td>\n",
              "      <td>2</td>\n",
              "      <td>0.318457</td>\n",
              "      <td>150.045278</td>\n",
              "    </tr>\n",
              "    <tr>\n",
              "      <th>101</th>\n",
              "      <td>6</td>\n",
              "      <td>16</td>\n",
              "      <td>2</td>\n",
              "      <td>0.318457</td>\n",
              "      <td>150.045278</td>\n",
              "    </tr>\n",
              "    <tr>\n",
              "      <th>100</th>\n",
              "      <td>6</td>\n",
              "      <td>15</td>\n",
              "      <td>2</td>\n",
              "      <td>0.318457</td>\n",
              "      <td>150.045278</td>\n",
              "    </tr>\n",
              "    <tr>\n",
              "      <th>99</th>\n",
              "      <td>6</td>\n",
              "      <td>14</td>\n",
              "      <td>2</td>\n",
              "      <td>0.318457</td>\n",
              "      <td>150.045278</td>\n",
              "    </tr>\n",
              "    <tr>\n",
              "      <th>98</th>\n",
              "      <td>6</td>\n",
              "      <td>13</td>\n",
              "      <td>2</td>\n",
              "      <td>0.318457</td>\n",
              "      <td>150.045278</td>\n",
              "    </tr>\n",
              "    <tr>\n",
              "      <th>97</th>\n",
              "      <td>6</td>\n",
              "      <td>12</td>\n",
              "      <td>2</td>\n",
              "      <td>0.318457</td>\n",
              "      <td>150.045278</td>\n",
              "    </tr>\n",
              "    <tr>\n",
              "      <th>96</th>\n",
              "      <td>6</td>\n",
              "      <td>11</td>\n",
              "      <td>2</td>\n",
              "      <td>0.318457</td>\n",
              "      <td>150.045278</td>\n",
              "    </tr>\n",
              "    <tr>\n",
              "      <th>95</th>\n",
              "      <td>6</td>\n",
              "      <td>10</td>\n",
              "      <td>2</td>\n",
              "      <td>0.318457</td>\n",
              "      <td>150.045278</td>\n",
              "    </tr>\n",
              "    <tr>\n",
              "      <th>94</th>\n",
              "      <td>6</td>\n",
              "      <td>9</td>\n",
              "      <td>2</td>\n",
              "      <td>0.318457</td>\n",
              "      <td>150.045278</td>\n",
              "    </tr>\n",
              "    <tr>\n",
              "      <th>93</th>\n",
              "      <td>6</td>\n",
              "      <td>8</td>\n",
              "      <td>2</td>\n",
              "      <td>0.318457</td>\n",
              "      <td>150.045278</td>\n",
              "    </tr>\n",
              "    <tr>\n",
              "      <th>92</th>\n",
              "      <td>6</td>\n",
              "      <td>7</td>\n",
              "      <td>2</td>\n",
              "      <td>0.318457</td>\n",
              "      <td>150.045278</td>\n",
              "    </tr>\n",
              "    <tr>\n",
              "      <th>91</th>\n",
              "      <td>6</td>\n",
              "      <td>6</td>\n",
              "      <td>2</td>\n",
              "      <td>0.318457</td>\n",
              "      <td>150.045278</td>\n",
              "    </tr>\n",
              "    <tr>\n",
              "      <th>90</th>\n",
              "      <td>6</td>\n",
              "      <td>5</td>\n",
              "      <td>2</td>\n",
              "      <td>0.318457</td>\n",
              "      <td>150.045278</td>\n",
              "    </tr>\n",
              "    <tr>\n",
              "      <th>89</th>\n",
              "      <td>6</td>\n",
              "      <td>4</td>\n",
              "      <td>2</td>\n",
              "      <td>0.318457</td>\n",
              "      <td>150.045278</td>\n",
              "    </tr>\n",
              "    <tr>\n",
              "      <th>88</th>\n",
              "      <td>6</td>\n",
              "      <td>3</td>\n",
              "      <td>2</td>\n",
              "      <td>0.318457</td>\n",
              "      <td>150.045278</td>\n",
              "    </tr>\n",
              "    <tr>\n",
              "      <th>105</th>\n",
              "      <td>6</td>\n",
              "      <td>20</td>\n",
              "      <td>2</td>\n",
              "      <td>0.318457</td>\n",
              "      <td>150.045278</td>\n",
              "    </tr>\n",
              "    <tr>\n",
              "      <th>106</th>\n",
              "      <td>7</td>\n",
              "      <td>1</td>\n",
              "      <td>2</td>\n",
              "      <td>0.318457</td>\n",
              "      <td>150.045278</td>\n",
              "    </tr>\n",
              "    <tr>\n",
              "      <th>107</th>\n",
              "      <td>7</td>\n",
              "      <td>2</td>\n",
              "      <td>2</td>\n",
              "      <td>0.318457</td>\n",
              "      <td>150.045278</td>\n",
              "    </tr>\n",
              "    <tr>\n",
              "      <th>117</th>\n",
              "      <td>7</td>\n",
              "      <td>12</td>\n",
              "      <td>2</td>\n",
              "      <td>0.318457</td>\n",
              "      <td>150.045278</td>\n",
              "    </tr>\n",
              "    <tr>\n",
              "      <th>124</th>\n",
              "      <td>7</td>\n",
              "      <td>19</td>\n",
              "      <td>2</td>\n",
              "      <td>0.318457</td>\n",
              "      <td>150.045278</td>\n",
              "    </tr>\n",
              "    <tr>\n",
              "      <th>123</th>\n",
              "      <td>7</td>\n",
              "      <td>18</td>\n",
              "      <td>2</td>\n",
              "      <td>0.318457</td>\n",
              "      <td>150.045278</td>\n",
              "    </tr>\n",
              "    <tr>\n",
              "      <th>122</th>\n",
              "      <td>7</td>\n",
              "      <td>17</td>\n",
              "      <td>2</td>\n",
              "      <td>0.318457</td>\n",
              "      <td>150.045278</td>\n",
              "    </tr>\n",
              "    <tr>\n",
              "      <th>121</th>\n",
              "      <td>7</td>\n",
              "      <td>16</td>\n",
              "      <td>2</td>\n",
              "      <td>0.318457</td>\n",
              "      <td>150.045278</td>\n",
              "    </tr>\n",
              "    <tr>\n",
              "      <th>120</th>\n",
              "      <td>7</td>\n",
              "      <td>15</td>\n",
              "      <td>2</td>\n",
              "      <td>0.318457</td>\n",
              "      <td>150.045278</td>\n",
              "    </tr>\n",
              "    <tr>\n",
              "      <th>119</th>\n",
              "      <td>7</td>\n",
              "      <td>14</td>\n",
              "      <td>2</td>\n",
              "      <td>0.318457</td>\n",
              "      <td>150.045278</td>\n",
              "    </tr>\n",
              "    <tr>\n",
              "      <th>118</th>\n",
              "      <td>7</td>\n",
              "      <td>13</td>\n",
              "      <td>2</td>\n",
              "      <td>0.318457</td>\n",
              "      <td>150.045278</td>\n",
              "    </tr>\n",
              "    <tr>\n",
              "      <th>...</th>\n",
              "      <td>...</td>\n",
              "      <td>...</td>\n",
              "      <td>...</td>\n",
              "      <td>...</td>\n",
              "      <td>...</td>\n",
              "    </tr>\n",
              "    <tr>\n",
              "      <th>23</th>\n",
              "      <td>2</td>\n",
              "      <td>18</td>\n",
              "      <td>3</td>\n",
              "      <td>0.262106</td>\n",
              "      <td>106.810914</td>\n",
              "    </tr>\n",
              "    <tr>\n",
              "      <th>24</th>\n",
              "      <td>2</td>\n",
              "      <td>19</td>\n",
              "      <td>3</td>\n",
              "      <td>0.262106</td>\n",
              "      <td>106.810914</td>\n",
              "    </tr>\n",
              "    <tr>\n",
              "      <th>1</th>\n",
              "      <td>1</td>\n",
              "      <td>2</td>\n",
              "      <td>309</td>\n",
              "      <td>0.225480</td>\n",
              "      <td>6.106915</td>\n",
              "    </tr>\n",
              "    <tr>\n",
              "      <th>56</th>\n",
              "      <td>4</td>\n",
              "      <td>11</td>\n",
              "      <td>4</td>\n",
              "      <td>0.184777</td>\n",
              "      <td>105.360540</td>\n",
              "    </tr>\n",
              "    <tr>\n",
              "      <th>77</th>\n",
              "      <td>5</td>\n",
              "      <td>12</td>\n",
              "      <td>4</td>\n",
              "      <td>0.176101</td>\n",
              "      <td>105.846361</td>\n",
              "    </tr>\n",
              "    <tr>\n",
              "      <th>78</th>\n",
              "      <td>5</td>\n",
              "      <td>13</td>\n",
              "      <td>4</td>\n",
              "      <td>0.176101</td>\n",
              "      <td>105.846361</td>\n",
              "    </tr>\n",
              "    <tr>\n",
              "      <th>76</th>\n",
              "      <td>5</td>\n",
              "      <td>11</td>\n",
              "      <td>4</td>\n",
              "      <td>0.176101</td>\n",
              "      <td>105.846361</td>\n",
              "    </tr>\n",
              "    <tr>\n",
              "      <th>84</th>\n",
              "      <td>5</td>\n",
              "      <td>19</td>\n",
              "      <td>4</td>\n",
              "      <td>0.158622</td>\n",
              "      <td>103.282230</td>\n",
              "    </tr>\n",
              "    <tr>\n",
              "      <th>85</th>\n",
              "      <td>5</td>\n",
              "      <td>20</td>\n",
              "      <td>4</td>\n",
              "      <td>0.158622</td>\n",
              "      <td>103.282230</td>\n",
              "    </tr>\n",
              "    <tr>\n",
              "      <th>83</th>\n",
              "      <td>5</td>\n",
              "      <td>18</td>\n",
              "      <td>4</td>\n",
              "      <td>0.158622</td>\n",
              "      <td>103.282230</td>\n",
              "    </tr>\n",
              "    <tr>\n",
              "      <th>82</th>\n",
              "      <td>5</td>\n",
              "      <td>17</td>\n",
              "      <td>4</td>\n",
              "      <td>0.158497</td>\n",
              "      <td>102.224794</td>\n",
              "    </tr>\n",
              "    <tr>\n",
              "      <th>81</th>\n",
              "      <td>5</td>\n",
              "      <td>16</td>\n",
              "      <td>4</td>\n",
              "      <td>0.158497</td>\n",
              "      <td>102.224794</td>\n",
              "    </tr>\n",
              "    <tr>\n",
              "      <th>61</th>\n",
              "      <td>4</td>\n",
              "      <td>16</td>\n",
              "      <td>5</td>\n",
              "      <td>0.132799</td>\n",
              "      <td>100.987666</td>\n",
              "    </tr>\n",
              "    <tr>\n",
              "      <th>62</th>\n",
              "      <td>4</td>\n",
              "      <td>17</td>\n",
              "      <td>5</td>\n",
              "      <td>0.131138</td>\n",
              "      <td>100.309566</td>\n",
              "    </tr>\n",
              "    <tr>\n",
              "      <th>63</th>\n",
              "      <td>4</td>\n",
              "      <td>18</td>\n",
              "      <td>5</td>\n",
              "      <td>0.129960</td>\n",
              "      <td>98.695071</td>\n",
              "    </tr>\n",
              "    <tr>\n",
              "      <th>75</th>\n",
              "      <td>5</td>\n",
              "      <td>10</td>\n",
              "      <td>4</td>\n",
              "      <td>0.129218</td>\n",
              "      <td>106.037481</td>\n",
              "    </tr>\n",
              "    <tr>\n",
              "      <th>57</th>\n",
              "      <td>4</td>\n",
              "      <td>12</td>\n",
              "      <td>5</td>\n",
              "      <td>0.125238</td>\n",
              "      <td>99.290941</td>\n",
              "    </tr>\n",
              "    <tr>\n",
              "      <th>65</th>\n",
              "      <td>4</td>\n",
              "      <td>20</td>\n",
              "      <td>5</td>\n",
              "      <td>0.115607</td>\n",
              "      <td>99.346564</td>\n",
              "    </tr>\n",
              "    <tr>\n",
              "      <th>79</th>\n",
              "      <td>5</td>\n",
              "      <td>14</td>\n",
              "      <td>4</td>\n",
              "      <td>0.096125</td>\n",
              "      <td>108.197247</td>\n",
              "    </tr>\n",
              "    <tr>\n",
              "      <th>80</th>\n",
              "      <td>5</td>\n",
              "      <td>15</td>\n",
              "      <td>4</td>\n",
              "      <td>0.096125</td>\n",
              "      <td>108.197247</td>\n",
              "    </tr>\n",
              "    <tr>\n",
              "      <th>58</th>\n",
              "      <td>4</td>\n",
              "      <td>13</td>\n",
              "      <td>6</td>\n",
              "      <td>0.058840</td>\n",
              "      <td>88.017124</td>\n",
              "    </tr>\n",
              "    <tr>\n",
              "      <th>59</th>\n",
              "      <td>4</td>\n",
              "      <td>14</td>\n",
              "      <td>6</td>\n",
              "      <td>0.058583</td>\n",
              "      <td>88.562775</td>\n",
              "    </tr>\n",
              "    <tr>\n",
              "      <th>60</th>\n",
              "      <td>4</td>\n",
              "      <td>15</td>\n",
              "      <td>6</td>\n",
              "      <td>0.052153</td>\n",
              "      <td>86.151914</td>\n",
              "    </tr>\n",
              "    <tr>\n",
              "      <th>55</th>\n",
              "      <td>4</td>\n",
              "      <td>10</td>\n",
              "      <td>5</td>\n",
              "      <td>0.023741</td>\n",
              "      <td>85.412803</td>\n",
              "    </tr>\n",
              "    <tr>\n",
              "      <th>54</th>\n",
              "      <td>4</td>\n",
              "      <td>9</td>\n",
              "      <td>5</td>\n",
              "      <td>0.023741</td>\n",
              "      <td>85.412803</td>\n",
              "    </tr>\n",
              "    <tr>\n",
              "      <th>53</th>\n",
              "      <td>4</td>\n",
              "      <td>8</td>\n",
              "      <td>5</td>\n",
              "      <td>0.020111</td>\n",
              "      <td>85.653072</td>\n",
              "    </tr>\n",
              "    <tr>\n",
              "      <th>52</th>\n",
              "      <td>4</td>\n",
              "      <td>7</td>\n",
              "      <td>5</td>\n",
              "      <td>0.020111</td>\n",
              "      <td>85.653072</td>\n",
              "    </tr>\n",
              "    <tr>\n",
              "      <th>20</th>\n",
              "      <td>2</td>\n",
              "      <td>15</td>\n",
              "      <td>4</td>\n",
              "      <td>0.006690</td>\n",
              "      <td>96.426182</td>\n",
              "    </tr>\n",
              "    <tr>\n",
              "      <th>37</th>\n",
              "      <td>3</td>\n",
              "      <td>12</td>\n",
              "      <td>8</td>\n",
              "      <td>0.005063</td>\n",
              "      <td>78.365944</td>\n",
              "    </tr>\n",
              "    <tr>\n",
              "      <th>21</th>\n",
              "      <td>2</td>\n",
              "      <td>16</td>\n",
              "      <td>4</td>\n",
              "      <td>0.002830</td>\n",
              "      <td>95.099537</td>\n",
              "    </tr>\n",
              "  </tbody>\n",
              "</table>\n",
              "<p>82 rows × 5 columns</p>\n",
              "</div>"
            ],
            "text/plain": [
              "     eps  min_sample  num_cluster  silhouette_score  calinski_harabaz_score\n",
              "0      1           1          696          0.472400             1353.043698\n",
              "86     6           1            2          0.318457              150.045278\n",
              "104    6          19            2          0.318457              150.045278\n",
              "103    6          18            2          0.318457              150.045278\n",
              "102    6          17            2          0.318457              150.045278\n",
              "101    6          16            2          0.318457              150.045278\n",
              "100    6          15            2          0.318457              150.045278\n",
              "99     6          14            2          0.318457              150.045278\n",
              "98     6          13            2          0.318457              150.045278\n",
              "97     6          12            2          0.318457              150.045278\n",
              "96     6          11            2          0.318457              150.045278\n",
              "95     6          10            2          0.318457              150.045278\n",
              "94     6           9            2          0.318457              150.045278\n",
              "93     6           8            2          0.318457              150.045278\n",
              "92     6           7            2          0.318457              150.045278\n",
              "91     6           6            2          0.318457              150.045278\n",
              "90     6           5            2          0.318457              150.045278\n",
              "89     6           4            2          0.318457              150.045278\n",
              "88     6           3            2          0.318457              150.045278\n",
              "105    6          20            2          0.318457              150.045278\n",
              "106    7           1            2          0.318457              150.045278\n",
              "107    7           2            2          0.318457              150.045278\n",
              "117    7          12            2          0.318457              150.045278\n",
              "124    7          19            2          0.318457              150.045278\n",
              "123    7          18            2          0.318457              150.045278\n",
              "122    7          17            2          0.318457              150.045278\n",
              "121    7          16            2          0.318457              150.045278\n",
              "120    7          15            2          0.318457              150.045278\n",
              "119    7          14            2          0.318457              150.045278\n",
              "118    7          13            2          0.318457              150.045278\n",
              "..   ...         ...          ...               ...                     ...\n",
              "23     2          18            3          0.262106              106.810914\n",
              "24     2          19            3          0.262106              106.810914\n",
              "1      1           2          309          0.225480                6.106915\n",
              "56     4          11            4          0.184777              105.360540\n",
              "77     5          12            4          0.176101              105.846361\n",
              "78     5          13            4          0.176101              105.846361\n",
              "76     5          11            4          0.176101              105.846361\n",
              "84     5          19            4          0.158622              103.282230\n",
              "85     5          20            4          0.158622              103.282230\n",
              "83     5          18            4          0.158622              103.282230\n",
              "82     5          17            4          0.158497              102.224794\n",
              "81     5          16            4          0.158497              102.224794\n",
              "61     4          16            5          0.132799              100.987666\n",
              "62     4          17            5          0.131138              100.309566\n",
              "63     4          18            5          0.129960               98.695071\n",
              "75     5          10            4          0.129218              106.037481\n",
              "57     4          12            5          0.125238               99.290941\n",
              "65     4          20            5          0.115607               99.346564\n",
              "79     5          14            4          0.096125              108.197247\n",
              "80     5          15            4          0.096125              108.197247\n",
              "58     4          13            6          0.058840               88.017124\n",
              "59     4          14            6          0.058583               88.562775\n",
              "60     4          15            6          0.052153               86.151914\n",
              "55     4          10            5          0.023741               85.412803\n",
              "54     4           9            5          0.023741               85.412803\n",
              "53     4           8            5          0.020111               85.653072\n",
              "52     4           7            5          0.020111               85.653072\n",
              "20     2          15            4          0.006690               96.426182\n",
              "37     3          12            8          0.005063               78.365944\n",
              "21     2          16            4          0.002830               95.099537\n",
              "\n",
              "[82 rows x 5 columns]"
            ]
          },
          "metadata": {
            "tags": []
          },
          "execution_count": 262
        }
      ]
    },
    {
      "metadata": {
        "id": "fix0qT5JtVHJ",
        "colab_type": "code",
        "outputId": "45fad086-350f-489d-c698-daccbb1f6ae2",
        "colab": {
          "base_uri": "https://localhost:8080/",
          "height": 34
        }
      },
      "cell_type": "code",
      "source": [
        "#X_pair_dist = pairwise_distances(d2v_emmb)\n",
        "#mx = [max(ii) for ii in X_pair_dist]\n",
        "#print(min(mx), max(mx))"
      ],
      "execution_count": 0,
      "outputs": [
        {
          "output_type": "stream",
          "text": [
            "5.1698174 7.6203084\n"
          ],
          "name": "stdout"
        }
      ]
    },
    {
      "metadata": {
        "id": "Pp5IK-ZPNKY4",
        "colab_type": "code",
        "colab": {}
      },
      "cell_type": "code",
      "source": [
        "d2v_emmb_cls_df.columns = ['feature_'+str(ii)for ii in range(d2v_emmb.shape[1])]+['cluster_label']"
      ],
      "execution_count": 0,
      "outputs": []
    },
    {
      "metadata": {
        "id": "ZWjNTqTqVyGU",
        "colab_type": "code",
        "outputId": "9a051a01-f4ae-4c5b-fa1a-81a32e1af351",
        "colab": {
          "base_uri": "https://localhost:8080/",
          "height": 51
        }
      },
      "cell_type": "code",
      "source": [
        "#collections.Counter(kmeans.labels_)\n",
        "#np.sqrt(d2v_emmb.shape[0]/2)  ## 24.361855430159665\n",
        "\n",
        "print(silhouette_score(d2v_emmb, kmeans.labels_, metric='euclidean'))\n",
        "print(calinski_harabaz_score(d2v_emmb, kmeans.labels_))\n",
        "\n",
        "\n",
        "#kmeans.predict([[0, 0], [4, 4]])\n",
        "#kmeans.cluster_centers_\n"
      ],
      "execution_count": 0,
      "outputs": [
        {
          "output_type": "stream",
          "text": [
            "0.6704527\n",
            "143.90858769057508\n"
          ],
          "name": "stdout"
        }
      ]
    },
    {
      "metadata": {
        "id": "brtpZ_iKM-n0",
        "colab_type": "code",
        "colab": {}
      },
      "cell_type": "code",
      "source": [
        ""
      ],
      "execution_count": 0,
      "outputs": []
    },
    {
      "metadata": {
        "id": "BNH43wt4QUzS",
        "colab_type": "code",
        "outputId": "de06a29e-b205-47c2-92d4-99c9e4a7df91",
        "colab": {
          "base_uri": "https://localhost:8080/",
          "height": 34
        }
      },
      "cell_type": "code",
      "source": [
        "collections.Counter(kmeans.labels_)"
      ],
      "execution_count": 0,
      "outputs": [
        {
          "output_type": "execute_result",
          "data": {
            "text/plain": [
              "Counter({-1: 41, 0: 1114, 1: 14, 2: 8, 3: 10})"
            ]
          },
          "metadata": {
            "tags": []
          },
          "execution_count": 222
        }
      ]
    },
    {
      "metadata": {
        "id": "E9MST1hjVyKL",
        "colab_type": "code",
        "colab": {}
      },
      "cell_type": "code",
      "source": [
        "import numpy as np\n",
        "import matplotlib.pyplot as plt\n",
        "from mpl_toolkits.mplot3d import Axes3D\n",
        "#!pip install somoclu\n",
        "import somoclu\n",
        "%matplotlib inline "
      ],
      "execution_count": 0,
      "outputs": []
    },
    {
      "metadata": {
        "id": "1Awof7zBVyMl",
        "colab_type": "code",
        "outputId": "a02c1a4c-88b8-4e7c-eb14-e6e01352a76a",
        "colab": {
          "base_uri": "https://localhost:8080/",
          "height": 1043
        }
      },
      "cell_type": "code",
      "source": [
        "c1 = d2v_emmb_cls_df[d2v_emmb_cls_df.cluster_label==-1].values\n",
        "c2 = d2v_emmb_cls_df[d2v_emmb_cls_df.cluster_label==0].values\n",
        "c3 = d2v_emmb_cls_df[d2v_emmb_cls_df.cluster_label==1].values\n",
        "c4 = d2v_emmb_cls_df[d2v_emmb_cls_df.cluster_label==2].values\n",
        "data = np.float32(np.concatenate((c1, c2, c3, c4)))\n",
        "colors = [\"red\"] * 49\n",
        "colors.extend([\"green\"] * 1114)\n",
        "colors.extend([\"blue\"] * 14)\n",
        "colors.extend([\"black\"] * 10)\n",
        "fig = plt.figure()\n",
        "ax = Axes3D(fig)\n",
        "ax.scatter(data[:, 0], data[:, 1], data[:, 2], data[:, 3], c=colors)\n",
        "labels = range(2000)"
      ],
      "execution_count": 0,
      "outputs": [
        {
          "output_type": "error",
          "ename": "ValueError",
          "evalue": "ignored",
          "traceback": [
            "\u001b[0;31m---------------------------------------------------------------------------\u001b[0m",
            "\u001b[0;31mValueError\u001b[0m                                Traceback (most recent call last)",
            "\u001b[0;32m/usr/local/lib/python3.6/dist-packages/matplotlib/axes/_axes.py\u001b[0m in \u001b[0;36mscatter\u001b[0;34m(self, x, y, s, c, marker, cmap, norm, vmin, vmax, alpha, linewidths, verts, edgecolors, **kwargs)\u001b[0m\n\u001b[1;32m   4237\u001b[0m                     \u001b[0mvalid_shape\u001b[0m \u001b[0;34m=\u001b[0m \u001b[0;32mFalse\u001b[0m\u001b[0;34m\u001b[0m\u001b[0;34m\u001b[0m\u001b[0m\n\u001b[0;32m-> 4238\u001b[0;31m                     \u001b[0;32mraise\u001b[0m \u001b[0mValueError\u001b[0m\u001b[0;34m\u001b[0m\u001b[0;34m\u001b[0m\u001b[0m\n\u001b[0m\u001b[1;32m   4239\u001b[0m             \u001b[0;32mexcept\u001b[0m \u001b[0mValueError\u001b[0m\u001b[0;34m:\u001b[0m\u001b[0;34m\u001b[0m\u001b[0;34m\u001b[0m\u001b[0m\n",
            "\u001b[0;31mValueError\u001b[0m: ",
            "\nDuring handling of the above exception, another exception occurred:\n",
            "\u001b[0;31mValueError\u001b[0m                                Traceback (most recent call last)",
            "\u001b[0;32m<ipython-input-224-954cd0843545>\u001b[0m in \u001b[0;36m<module>\u001b[0;34m()\u001b[0m\n\u001b[1;32m     10\u001b[0m \u001b[0mfig\u001b[0m \u001b[0;34m=\u001b[0m \u001b[0mplt\u001b[0m\u001b[0;34m.\u001b[0m\u001b[0mfigure\u001b[0m\u001b[0;34m(\u001b[0m\u001b[0;34m)\u001b[0m\u001b[0;34m\u001b[0m\u001b[0;34m\u001b[0m\u001b[0m\n\u001b[1;32m     11\u001b[0m \u001b[0max\u001b[0m \u001b[0;34m=\u001b[0m \u001b[0mAxes3D\u001b[0m\u001b[0;34m(\u001b[0m\u001b[0mfig\u001b[0m\u001b[0;34m)\u001b[0m\u001b[0;34m\u001b[0m\u001b[0;34m\u001b[0m\u001b[0m\n\u001b[0;32m---> 12\u001b[0;31m \u001b[0max\u001b[0m\u001b[0;34m.\u001b[0m\u001b[0mscatter\u001b[0m\u001b[0;34m(\u001b[0m\u001b[0mdata\u001b[0m\u001b[0;34m[\u001b[0m\u001b[0;34m:\u001b[0m\u001b[0;34m,\u001b[0m \u001b[0;36m0\u001b[0m\u001b[0;34m]\u001b[0m\u001b[0;34m,\u001b[0m \u001b[0mdata\u001b[0m\u001b[0;34m[\u001b[0m\u001b[0;34m:\u001b[0m\u001b[0;34m,\u001b[0m \u001b[0;36m1\u001b[0m\u001b[0;34m]\u001b[0m\u001b[0;34m,\u001b[0m \u001b[0mdata\u001b[0m\u001b[0;34m[\u001b[0m\u001b[0;34m:\u001b[0m\u001b[0;34m,\u001b[0m \u001b[0;36m2\u001b[0m\u001b[0;34m]\u001b[0m\u001b[0;34m,\u001b[0m \u001b[0mdata\u001b[0m\u001b[0;34m[\u001b[0m\u001b[0;34m:\u001b[0m\u001b[0;34m,\u001b[0m \u001b[0;36m3\u001b[0m\u001b[0;34m]\u001b[0m\u001b[0;34m,\u001b[0m \u001b[0mc\u001b[0m\u001b[0;34m=\u001b[0m\u001b[0mcolors\u001b[0m\u001b[0;34m)\u001b[0m\u001b[0;34m\u001b[0m\u001b[0;34m\u001b[0m\u001b[0m\n\u001b[0m\u001b[1;32m     13\u001b[0m \u001b[0mlabels\u001b[0m \u001b[0;34m=\u001b[0m \u001b[0mrange\u001b[0m\u001b[0;34m(\u001b[0m\u001b[0;36m2000\u001b[0m\u001b[0;34m)\u001b[0m\u001b[0;34m\u001b[0m\u001b[0;34m\u001b[0m\u001b[0m\n",
            "\u001b[0;32m/usr/local/lib/python3.6/dist-packages/mpl_toolkits/mplot3d/axes3d.py\u001b[0m in \u001b[0;36mscatter\u001b[0;34m(self, xs, ys, zs, zdir, s, c, depthshade, *args, **kwargs)\u001b[0m\n\u001b[1;32m   2298\u001b[0m         \u001b[0mxs\u001b[0m\u001b[0;34m,\u001b[0m \u001b[0mys\u001b[0m\u001b[0;34m,\u001b[0m \u001b[0mzs\u001b[0m\u001b[0;34m,\u001b[0m \u001b[0ms\u001b[0m\u001b[0;34m,\u001b[0m \u001b[0mc\u001b[0m \u001b[0;34m=\u001b[0m \u001b[0mcbook\u001b[0m\u001b[0;34m.\u001b[0m\u001b[0mdelete_masked_points\u001b[0m\u001b[0;34m(\u001b[0m\u001b[0mxs\u001b[0m\u001b[0;34m,\u001b[0m \u001b[0mys\u001b[0m\u001b[0;34m,\u001b[0m \u001b[0mzs\u001b[0m\u001b[0;34m,\u001b[0m \u001b[0ms\u001b[0m\u001b[0;34m,\u001b[0m \u001b[0mc\u001b[0m\u001b[0;34m)\u001b[0m\u001b[0;34m\u001b[0m\u001b[0;34m\u001b[0m\u001b[0m\n\u001b[1;32m   2299\u001b[0m \u001b[0;34m\u001b[0m\u001b[0m\n\u001b[0;32m-> 2300\u001b[0;31m         \u001b[0mpatches\u001b[0m \u001b[0;34m=\u001b[0m \u001b[0msuper\u001b[0m\u001b[0;34m(\u001b[0m\u001b[0;34m)\u001b[0m\u001b[0;34m.\u001b[0m\u001b[0mscatter\u001b[0m\u001b[0;34m(\u001b[0m\u001b[0mxs\u001b[0m\u001b[0;34m,\u001b[0m \u001b[0mys\u001b[0m\u001b[0;34m,\u001b[0m \u001b[0ms\u001b[0m\u001b[0;34m=\u001b[0m\u001b[0ms\u001b[0m\u001b[0;34m,\u001b[0m \u001b[0mc\u001b[0m\u001b[0;34m=\u001b[0m\u001b[0mc\u001b[0m\u001b[0;34m,\u001b[0m \u001b[0;34m*\u001b[0m\u001b[0margs\u001b[0m\u001b[0;34m,\u001b[0m \u001b[0;34m**\u001b[0m\u001b[0mkwargs\u001b[0m\u001b[0;34m)\u001b[0m\u001b[0;34m\u001b[0m\u001b[0;34m\u001b[0m\u001b[0m\n\u001b[0m\u001b[1;32m   2301\u001b[0m         \u001b[0mis_2d\u001b[0m \u001b[0;34m=\u001b[0m \u001b[0;32mnot\u001b[0m \u001b[0mcbook\u001b[0m\u001b[0;34m.\u001b[0m\u001b[0miterable\u001b[0m\u001b[0;34m(\u001b[0m\u001b[0mzs\u001b[0m\u001b[0;34m)\u001b[0m\u001b[0;34m\u001b[0m\u001b[0;34m\u001b[0m\u001b[0m\n\u001b[1;32m   2302\u001b[0m         \u001b[0mzs\u001b[0m \u001b[0;34m=\u001b[0m \u001b[0mnp\u001b[0m\u001b[0;34m.\u001b[0m\u001b[0mbroadcast_to\u001b[0m\u001b[0;34m(\u001b[0m\u001b[0mzs\u001b[0m\u001b[0;34m,\u001b[0m \u001b[0mlen\u001b[0m\u001b[0;34m(\u001b[0m\u001b[0mxs\u001b[0m\u001b[0;34m)\u001b[0m\u001b[0;34m)\u001b[0m\u001b[0;34m\u001b[0m\u001b[0;34m\u001b[0m\u001b[0m\n",
            "\u001b[0;32m/usr/local/lib/python3.6/dist-packages/matplotlib/__init__.py\u001b[0m in \u001b[0;36minner\u001b[0;34m(ax, data, *args, **kwargs)\u001b[0m\n\u001b[1;32m   1808\u001b[0m                         \u001b[0;34m\"the Matplotlib list!)\"\u001b[0m \u001b[0;34m%\u001b[0m \u001b[0;34m(\u001b[0m\u001b[0mlabel_namer\u001b[0m\u001b[0;34m,\u001b[0m \u001b[0mfunc\u001b[0m\u001b[0;34m.\u001b[0m\u001b[0m__name__\u001b[0m\u001b[0;34m)\u001b[0m\u001b[0;34m,\u001b[0m\u001b[0;34m\u001b[0m\u001b[0;34m\u001b[0m\u001b[0m\n\u001b[1;32m   1809\u001b[0m                         RuntimeWarning, stacklevel=2)\n\u001b[0;32m-> 1810\u001b[0;31m             \u001b[0;32mreturn\u001b[0m \u001b[0mfunc\u001b[0m\u001b[0;34m(\u001b[0m\u001b[0max\u001b[0m\u001b[0;34m,\u001b[0m \u001b[0;34m*\u001b[0m\u001b[0margs\u001b[0m\u001b[0;34m,\u001b[0m \u001b[0;34m**\u001b[0m\u001b[0mkwargs\u001b[0m\u001b[0;34m)\u001b[0m\u001b[0;34m\u001b[0m\u001b[0;34m\u001b[0m\u001b[0m\n\u001b[0m\u001b[1;32m   1811\u001b[0m \u001b[0;34m\u001b[0m\u001b[0m\n\u001b[1;32m   1812\u001b[0m         inner.__doc__ = _add_data_doc(inner.__doc__,\n",
            "\u001b[0;32m/usr/local/lib/python3.6/dist-packages/matplotlib/axes/_axes.py\u001b[0m in \u001b[0;36mscatter\u001b[0;34m(self, x, y, s, c, marker, cmap, norm, vmin, vmax, alpha, linewidths, verts, edgecolors, **kwargs)\u001b[0m\n\u001b[1;32m   4243\u001b[0m                         \u001b[0;34m\"acceptable for use with 'x' with size {xs}, \"\u001b[0m\u001b[0;34m\u001b[0m\u001b[0;34m\u001b[0m\u001b[0m\n\u001b[1;32m   4244\u001b[0m                         \u001b[0;34m\"'y' with size {ys}.\"\u001b[0m\u001b[0;34m\u001b[0m\u001b[0;34m\u001b[0m\u001b[0m\n\u001b[0;32m-> 4245\u001b[0;31m                         \u001b[0;34m.\u001b[0m\u001b[0mformat\u001b[0m\u001b[0;34m(\u001b[0m\u001b[0mnc\u001b[0m\u001b[0;34m=\u001b[0m\u001b[0mn_elem\u001b[0m\u001b[0;34m,\u001b[0m \u001b[0mxs\u001b[0m\u001b[0;34m=\u001b[0m\u001b[0mx\u001b[0m\u001b[0;34m.\u001b[0m\u001b[0msize\u001b[0m\u001b[0;34m,\u001b[0m \u001b[0mys\u001b[0m\u001b[0;34m=\u001b[0m\u001b[0my\u001b[0m\u001b[0;34m.\u001b[0m\u001b[0msize\u001b[0m\u001b[0;34m)\u001b[0m\u001b[0;34m\u001b[0m\u001b[0;34m\u001b[0m\u001b[0m\n\u001b[0m\u001b[1;32m   4246\u001b[0m                     )\n\u001b[1;32m   4247\u001b[0m                 \u001b[0;31m# Both the mapping *and* the RGBA conversion failed: pretty\u001b[0m\u001b[0;34m\u001b[0m\u001b[0;34m\u001b[0m\u001b[0;34m\u001b[0m\u001b[0m\n",
            "\u001b[0;31mValueError\u001b[0m: 'c' argument has 1187 elements, which is not acceptable for use with 'x' with size 1177, 'y' with size 1177."
          ]
        },
        {
          "output_type": "display_data",
          "data": {
            "image/png": "[encoded data removed]",
            "text/plain": [
              "<Figure size 432x288 with 1 Axes>"
            ]
          },
          "metadata": {
            "tags": []
          }
        }
      ]
    },
    {
      "metadata": {
        "id": "cGVj6ZisVyTs",
        "colab_type": "code",
        "outputId": "823caa13-8a8b-4f29-a737-cf3062e58b9c",
        "colab": {
          "base_uri": "https://localhost:8080/",
          "height": 170
        }
      },
      "cell_type": "code",
      "source": [
        "import numpy as np\n",
        "from sklearn.manifold import TSNE\n",
        "new_model_dv = Doc2Vec.load('/content/drive/My Drive/colab_work/mmodel_dv200_dm0_w5_2.model')\n",
        "xx = new_model_dv.docvecs.vectors_docs\n",
        "xx_embedded = TSNE(n_components=2, random_state=42, verbose=True).fit_transform(xx)\n",
        "xx_embedded.shape"
      ],
      "execution_count": 145,
      "outputs": [
        {
          "output_type": "stream",
          "text": [
            "[t-SNE] Computing 91 nearest neighbors...\n",
            "[t-SNE] Indexed 1187 samples in 0.008s...\n",
            "[t-SNE] Computed neighbors for 1187 samples in 0.584s...\n",
            "[t-SNE] Computed conditional probabilities for sample 1000 / 1187\n",
            "[t-SNE] Computed conditional probabilities for sample 1187 / 1187\n",
            "[t-SNE] Mean sigma: 0.113754\n",
            "[t-SNE] KL divergence after 250 iterations with early exaggeration: 66.849052\n",
            "[t-SNE] KL divergence after 1000 iterations: 0.854525\n"
          ],
          "name": "stdout"
        },
        {
          "output_type": "execute_result",
          "data": {
            "text/plain": [
              "(1187, 2)"
            ]
          },
          "metadata": {
            "tags": []
          },
          "execution_count": 145
        }
      ]
    },
    {
      "metadata": {
        "id": "-bVaJl_-VyZM",
        "colab_type": "code",
        "colab": {}
      },
      "cell_type": "code",
      "source": [
        "#xx_embedded"
      ],
      "execution_count": 0,
      "outputs": []
    },
    {
      "metadata": {
        "id": "lglf-or0-K4h",
        "colab_type": "code",
        "colab": {}
      },
      "cell_type": "code",
      "source": [
        "#!pip install ggplot"
      ],
      "execution_count": 0,
      "outputs": []
    },
    {
      "metadata": {
        "id": "QZ-DWRLPVycW",
        "colab_type": "code",
        "outputId": "fb946b68-82ae-448a-d34b-b8aa1c13dbf2",
        "colab": {
          "base_uri": "https://localhost:8080/",
          "height": 768
        }
      },
      "cell_type": "code",
      "source": [
        "from ggplot import *\n",
        "df_tsne = pd.DataFrame()\n",
        "df_tsne['x-tsne'] = xx_embedded[:,0]\n",
        "df_tsne['y-tsne'] = xx_embedded[:,1]\n",
        "df_tsne['label'] = list(dfs_eng.Sentiment.loc[:].values)\n",
        "\n",
        "chart = ggplot( df_tsne, aes(x='x-tsne', y='y-tsne', color='label') ) \\\n",
        "        + geom_point(size=70,alpha=0.1, fill='white') \\\n",
        "        + ggtitle(\"tSNE dimensions colored by digit\")\n",
        "chart"
      ],
      "execution_count": 149,
      "outputs": [
        {
          "output_type": "stream",
          "text": [
            "/usr/local/lib/python3.6/dist-packages/ggplot/utils.py:81: FutureWarning: pandas.tslib is deprecated and will be removed in a future version.\n",
            "You can access Timestamp as pandas.Timestamp\n",
            "  pd.tslib.Timestamp,\n",
            "/usr/local/lib/python3.6/dist-packages/ggplot/stats/smoothers.py:4: FutureWarning: The pandas.lib module is deprecated and will be removed in a future version. These are private functions and can be accessed from pandas._libs.lib instead\n",
            "  from pandas.lib import Timestamp\n",
            "/usr/local/lib/python3.6/dist-packages/statsmodels/compat/pandas.py:56: FutureWarning: The pandas.core.datetools module is deprecated and will be removed in a future version. Please use the pandas.tseries module instead.\n",
            "  from pandas.core import datetools\n",
            "'c' argument looks like a single numeric RGB or RGBA sequence, which should be avoided as value-mapping will have precedence in case its length matches with 'x' & 'y'.  Please use a 2-D array with a single row if you really want to specify the same RGB or RGBA value for all points.\n",
            "'c' argument looks like a single numeric RGB or RGBA sequence, which should be avoided as value-mapping will have precedence in case its length matches with 'x' & 'y'.  Please use a 2-D array with a single row if you really want to specify the same RGB or RGBA value for all points.\n",
            "'c' argument looks like a single numeric RGB or RGBA sequence, which should be avoided as value-mapping will have precedence in case its length matches with 'x' & 'y'.  Please use a 2-D array with a single row if you really want to specify the same RGB or RGBA value for all points.\n"
          ],
          "name": "stderr"
        },
        {
          "output_type": "display_data",
          "data": {
            "image/png": "[encoded data removed]",
            "text/plain": [
              "<Figure size 792x576 with 1 Axes>"
            ]
          },
          "metadata": {
            "tags": []
          }
        },
        {
          "output_type": "execute_result",
          "data": {
            "text/plain": [
              "<ggplot: (-9223363267491516868)>"
            ]
          },
          "metadata": {
            "tags": []
          },
          "execution_count": 149
        }
      ]
    },
    {
      "metadata": {
        "id": "2weTXsGRVyfu",
        "colab_type": "code",
        "colab": {}
      },
      "cell_type": "code",
      "source": [
        ""
      ],
      "execution_count": 0,
      "outputs": []
    },
    {
      "metadata": {
        "id": "R9d_Bu2XVymq",
        "colab_type": "code",
        "outputId": "31d23c2b-1cdb-4d22-9759-1b867073f895",
        "colab": {
          "base_uri": "https://localhost:8080/",
          "height": 2567
        }
      },
      "cell_type": "code",
      "source": [
        "c1 = np.random.rand(50, 3)/5\n",
        "c2 = (0.6, 0.1, 0.05) + np.random.rand(50, 3)/5\n",
        "c3 = (0.4, 0.1, 0.7) + np.random.rand(50, 3)/5\n",
        "data1 = np.float32(np.concatenate((c1, c2, c3)))\n",
        "data1"
      ],
      "execution_count": 0,
      "outputs": [
        {
          "output_type": "execute_result",
          "data": {
            "text/plain": [
              "array([[1.54045984e-01, 7.08349496e-02, 7.96566010e-02],\n",
              "       [1.54697448e-01, 1.70305148e-02, 8.07242841e-03],\n",
              "       [1.80468693e-01, 4.59440723e-02, 1.58947989e-01],\n",
              "       [9.53960717e-02, 9.71074216e-03, 7.09437057e-02],\n",
              "       [2.09368262e-02, 2.44848267e-03, 1.06341213e-01],\n",
              "       [1.26746714e-01, 1.44003466e-01, 7.55226761e-02],\n",
              "       [6.56223902e-03, 1.98544115e-01, 7.01137260e-02],\n",
              "       [1.25458449e-01, 1.20064661e-01, 7.55717233e-02],\n",
              "       [1.36425152e-01, 1.10074773e-01, 1.09180927e-01],\n",
              "       [5.63694648e-02, 1.17558047e-01, 4.17036787e-02],\n",
              "       [1.10637024e-01, 1.02966586e-02, 1.50389254e-01],\n",
              "       [1.66772813e-01, 1.81054741e-01, 1.49372280e-01],\n",
              "       [1.79738805e-01, 1.91184640e-01, 1.28042370e-01],\n",
              "       [9.23999250e-02, 6.33976096e-03, 1.43529758e-01],\n",
              "       [1.37962937e-01, 5.01991175e-02, 2.21081953e-02],\n",
              "       [9.11869854e-02, 6.04903549e-02, 3.48255821e-02],\n",
              "       [1.39564043e-02, 1.52132615e-01, 1.78052425e-01],\n",
              "       [1.05360948e-01, 2.67479336e-03, 1.19115174e-01],\n",
              "       [8.42050910e-02, 1.91824988e-01, 1.60994250e-02],\n",
              "       [9.23881009e-02, 1.51771819e-02, 2.75421254e-02],\n",
              "       [1.17722802e-01, 1.32064059e-01, 2.84047406e-02],\n",
              "       [1.23310558e-01, 5.81131354e-02, 1.93246663e-01],\n",
              "       [8.43405426e-02, 1.43864557e-01, 1.94710687e-01],\n",
              "       [1.95766017e-01, 9.09497142e-02, 9.53110978e-02],\n",
              "       [9.84961689e-02, 4.78102975e-02, 3.23100365e-04],\n",
              "       [3.27777863e-02, 8.48456919e-02, 2.02358812e-02],\n",
              "       [2.16237959e-02, 1.44576579e-01, 1.89732611e-01],\n",
              "       [3.57246958e-02, 8.48967209e-03, 2.88313013e-02],\n",
              "       [1.29689440e-01, 3.12587768e-02, 1.68820813e-01],\n",
              "       [1.08507961e-01, 1.95862949e-02, 1.23931766e-01],\n",
              "       [1.80687368e-01, 1.13846377e-01, 1.44901900e-02],\n",
              "       [1.31384492e-01, 1.52676299e-01, 1.07414275e-01],\n",
              "       [1.86023816e-01, 9.30877179e-02, 1.21192271e-02],\n",
              "       [1.43485323e-01, 1.50152072e-01, 6.49167523e-02],\n",
              "       [1.55029282e-01, 1.84571356e-01, 1.35327168e-02],\n",
              "       [1.11880668e-01, 3.34915929e-02, 1.96614731e-02],\n",
              "       [1.48340046e-01, 6.20174315e-03, 1.43879727e-01],\n",
              "       [5.14264517e-02, 1.64592430e-01, 1.36485010e-01],\n",
              "       [1.02389799e-02, 1.87856816e-02, 7.05632269e-02],\n",
              "       [1.05150618e-01, 5.98709956e-02, 1.27430633e-01],\n",
              "       [1.21016197e-01, 1.83268800e-01, 1.51931494e-01],\n",
              "       [4.35032733e-02, 1.98556051e-01, 4.75940481e-02],\n",
              "       [1.80064663e-01, 7.37976730e-02, 9.96916145e-02],\n",
              "       [1.63938805e-01, 1.32914200e-01, 1.93334252e-01],\n",
              "       [1.42211780e-01, 1.40424833e-01, 5.45303188e-02],\n",
              "       [2.76649706e-02, 7.90794417e-02, 9.20761600e-02],\n",
              "       [2.33207699e-02, 5.47146536e-02, 1.07708365e-01],\n",
              "       [1.01058707e-01, 1.46480411e-01, 1.74815223e-01],\n",
              "       [9.74030048e-02, 5.27161285e-02, 5.67933545e-03],\n",
              "       [1.93606481e-01, 1.00624502e-01, 1.95556685e-01],\n",
              "       [6.38577223e-01, 2.96181709e-01, 8.21855813e-02],\n",
              "       [6.02227807e-01, 1.39195576e-01, 2.08420113e-01],\n",
              "       [6.88096404e-01, 1.62935421e-01, 8.55924413e-02],\n",
              "       [6.21179581e-01, 2.38504827e-01, 9.65707526e-02],\n",
              "       [6.83263898e-01, 2.53173500e-01, 8.82602036e-02],\n",
              "       [7.74025023e-01, 1.53647736e-01, 6.70006201e-02],\n",
              "       [7.51593351e-01, 1.82152286e-01, 2.35675931e-01],\n",
              "       [7.20658362e-01, 2.35638425e-01, 1.14826910e-01],\n",
              "       [7.71684110e-01, 1.96038470e-01, 1.49316728e-01],\n",
              "       [6.21206045e-01, 2.41133809e-01, 9.14253891e-02],\n",
              "       [6.94223464e-01, 2.05583319e-01, 2.39030734e-01],\n",
              "       [6.96739793e-01, 2.86683261e-01, 1.43392920e-01],\n",
              "       [6.53686464e-01, 1.03772156e-01, 7.57106096e-02],\n",
              "       [7.32011437e-01, 2.19925299e-01, 9.49558467e-02],\n",
              "       [6.54697657e-01, 2.07115322e-01, 2.04540238e-01],\n",
              "       [7.26403356e-01, 2.76853621e-01, 9.09932405e-02],\n",
              "       [7.66825557e-01, 2.53413886e-01, 2.22374752e-01],\n",
              "       [6.48663282e-01, 2.35385016e-01, 1.70780435e-01],\n",
              "       [6.24665260e-01, 2.88468868e-01, 2.31070131e-01],\n",
              "       [6.90247238e-01, 1.55662939e-01, 2.44050056e-01],\n",
              "       [7.01709986e-01, 2.44493917e-01, 1.01426221e-01],\n",
              "       [6.89748108e-01, 1.12495959e-01, 1.19730577e-01],\n",
              "       [6.19662702e-01, 2.34746367e-01, 9.88079682e-02],\n",
              "       [7.12371230e-01, 2.12090343e-01, 1.71012983e-01],\n",
              "       [7.12737620e-01, 2.11847931e-01, 1.63583696e-01],\n",
              "       [7.56493747e-01, 2.18313485e-01, 8.86136070e-02],\n",
              "       [6.38403535e-01, 1.71324641e-01, 1.50260955e-01],\n",
              "       [6.42147541e-01, 2.50132143e-01, 1.82256967e-01],\n",
              "       [7.04967976e-01, 2.67373621e-01, 2.47405708e-01],\n",
              "       [6.52580261e-01, 2.26204142e-01, 1.00002967e-01],\n",
              "       [7.49251723e-01, 2.56250411e-01, 1.38427228e-01],\n",
              "       [6.49236560e-01, 2.38946736e-01, 7.03154579e-02],\n",
              "       [7.05721915e-01, 2.44111255e-01, 6.35511577e-02],\n",
              "       [6.64921045e-01, 2.05099896e-01, 1.22498915e-01],\n",
              "       [6.45441234e-01, 2.05183446e-01, 2.27301493e-01],\n",
              "       [6.52376235e-01, 1.50289774e-01, 1.03568166e-01],\n",
              "       [7.04567730e-01, 2.58161962e-01, 1.42284930e-01],\n",
              "       [6.22861624e-01, 1.34743869e-01, 1.52940616e-01],\n",
              "       [6.99555933e-01, 2.02677146e-01, 9.55100954e-02],\n",
              "       [6.58533394e-01, 1.84213728e-01, 1.88795418e-01],\n",
              "       [6.81277573e-01, 1.74440280e-01, 1.43157452e-01],\n",
              "       [6.14360571e-01, 1.13946341e-01, 6.18988499e-02],\n",
              "       [6.09848261e-01, 2.06228346e-01, 9.51546803e-02],\n",
              "       [6.14241183e-01, 2.19931945e-01, 1.70140609e-01],\n",
              "       [7.11890578e-01, 1.77495837e-01, 2.17497796e-01],\n",
              "       [7.26420820e-01, 1.77548662e-01, 2.32430711e-01],\n",
              "       [7.68515527e-01, 1.23400129e-01, 1.53240442e-01],\n",
              "       [6.21783614e-01, 1.80189729e-01, 2.19916627e-01],\n",
              "       [6.56716943e-01, 1.88337609e-01, 6.20490350e-02],\n",
              "       [7.72407651e-01, 1.85161397e-01, 5.19633032e-02],\n",
              "       [5.52504718e-01, 1.11859411e-01, 7.39667833e-01],\n",
              "       [4.51245129e-01, 2.25129083e-01, 8.15277219e-01],\n",
              "       [5.59682131e-01, 2.72419721e-01, 7.31788576e-01],\n",
              "       [5.04861414e-01, 2.79523194e-01, 7.46861100e-01],\n",
              "       [4.25910801e-01, 1.77499399e-01, 7.18238413e-01],\n",
              "       [4.42034453e-01, 1.27492860e-01, 8.69893074e-01],\n",
              "       [5.12196124e-01, 1.92348123e-01, 8.04910183e-01],\n",
              "       [5.30181050e-01, 1.52006134e-01, 7.06866443e-01],\n",
              "       [4.88191098e-01, 1.89554840e-01, 7.08434522e-01],\n",
              "       [4.73629534e-01, 1.92163914e-01, 8.74138892e-01],\n",
              "       [5.63600123e-01, 1.61898851e-01, 8.35845172e-01],\n",
              "       [4.27311420e-01, 2.95726329e-01, 8.23094010e-01],\n",
              "       [4.01354432e-01, 1.22866027e-01, 8.76587331e-01],\n",
              "       [5.64743340e-01, 2.11240187e-01, 8.07456315e-01],\n",
              "       [4.71333325e-01, 1.23800755e-01, 7.09000826e-01],\n",
              "       [5.16096532e-01, 1.04648948e-01, 8.88606966e-01],\n",
              "       [5.68876386e-01, 2.31829986e-01, 8.58322620e-01],\n",
              "       [4.42865551e-01, 2.11543307e-01, 8.55633020e-01],\n",
              "       [5.54473519e-01, 2.88065135e-01, 8.81833017e-01],\n",
              "       [4.78767484e-01, 2.80919194e-01, 7.10614264e-01],\n",
              "       [4.03999239e-01, 2.27690116e-01, 7.25074112e-01],\n",
              "       [4.08991933e-01, 1.33672670e-01, 8.63614261e-01],\n",
              "       [5.89233994e-01, 2.68177837e-01, 8.08404267e-01],\n",
              "       [5.35437644e-01, 1.79412350e-01, 8.19360435e-01],\n",
              "       [5.58466852e-01, 1.47125423e-01, 7.73645818e-01],\n",
              "       [4.60810125e-01, 2.83477783e-01, 8.68997693e-01],\n",
              "       [5.28387964e-01, 1.95991933e-01, 8.49236727e-01],\n",
              "       [5.46710014e-01, 1.56546816e-01, 7.64096260e-01],\n",
              "       [5.09615839e-01, 2.44761690e-01, 7.13065147e-01],\n",
              "       [5.04603446e-01, 2.64818519e-01, 7.11309433e-01],\n",
              "       [5.72354436e-01, 1.96002722e-01, 7.84803510e-01],\n",
              "       [5.25980115e-01, 2.08242148e-01, 8.21950793e-01],\n",
              "       [5.15343845e-01, 1.75638169e-01, 7.95633316e-01],\n",
              "       [4.78537798e-01, 1.46285564e-01, 7.30776668e-01],\n",
              "       [4.11134928e-01, 1.10202707e-01, 7.18054712e-01],\n",
              "       [4.96340275e-01, 2.49637872e-01, 7.37215340e-01],\n",
              "       [5.21982014e-01, 1.53406471e-01, 8.50338578e-01],\n",
              "       [5.12358069e-01, 1.00877985e-01, 7.19931006e-01],\n",
              "       [5.64855158e-01, 2.95164436e-01, 7.40516722e-01],\n",
              "       [5.42507887e-01, 2.38292545e-01, 7.11319625e-01],\n",
              "       [5.03130674e-01, 2.98081696e-01, 7.37827837e-01],\n",
              "       [4.40814495e-01, 1.86260819e-01, 7.50282586e-01],\n",
              "       [5.76706767e-01, 1.09526955e-01, 7.21785128e-01],\n",
              "       [5.71718872e-01, 2.43411258e-01, 7.53748477e-01],\n",
              "       [4.00536507e-01, 1.56400546e-01, 8.97450328e-01],\n",
              "       [5.33758283e-01, 2.19756693e-01, 8.49445760e-01],\n",
              "       [4.04192597e-01, 2.75137752e-01, 7.49774635e-01],\n",
              "       [4.38060910e-01, 2.64055431e-01, 7.71482468e-01],\n",
              "       [5.67423582e-01, 1.70579940e-01, 8.02515149e-01],\n",
              "       [5.84524632e-01, 1.88528597e-01, 8.92929137e-01]], dtype=float32)"
            ]
          },
          "metadata": {
            "tags": []
          },
          "execution_count": 240
        }
      ]
    },
    {
      "metadata": {
        "id": "xvYGsvTjVype",
        "colab_type": "code",
        "outputId": "9da1ad10-f548-4001-c1f5-28485735a74d",
        "colab": {
          "base_uri": "https://localhost:8080/",
          "height": 68
        }
      },
      "cell_type": "code",
      "source": [
        "n_rows, n_columns = 100, 160\n",
        "som = somoclu.Somoclu(n_columns, n_rows, data=data1)\n",
        "%time som.train()"
      ],
      "execution_count": 0,
      "outputs": [
        {
          "output_type": "stream",
          "text": [
            "Warning: passing the data in the constructor is deprecated.\n",
            "CPU times: user 8.54 s, sys: 14.7 ms, total: 8.55 s\n",
            "Wall time: 4.29 s\n"
          ],
          "name": "stdout"
        }
      ]
    },
    {
      "metadata": {
        "id": "zhHzGYrvVyYH",
        "colab_type": "code",
        "outputId": "67c38ecc-8422-4489-dbf0-91181889eb22",
        "colab": {
          "base_uri": "https://localhost:8080/",
          "height": 949
        }
      },
      "cell_type": "code",
      "source": [
        "som.view_component_planes()"
      ],
      "execution_count": 0,
      "outputs": [
        {
          "output_type": "display_data",
          "data": {
            "image/png": "[encoded data removed]",
            "text/plain": [
              "<Figure size 576x360 with 1 Axes>"
            ]
          },
          "metadata": {
            "tags": []
          }
        },
        {
          "output_type": "display_data",
          "data": {
            "image/png": "[encoded data removed]",
            "text/plain": [
              "<Figure size 576x360 with 1 Axes>"
            ]
          },
          "metadata": {
            "tags": []
          }
        },
        {
          "output_type": "display_data",
          "data": {
            "image/png": "[encoded data removed]",
            "text/plain": [
              "<Figure size 576x360 with 1 Axes>"
            ]
          },
          "metadata": {
            "tags": []
          }
        },
        {
          "output_type": "execute_result",
          "data": {
            "text/plain": [
              "<module 'matplotlib.pyplot' from '/usr/local/lib/python3.6/dist-packages/matplotlib/pyplot.py'>"
            ]
          },
          "metadata": {
            "tags": []
          },
          "execution_count": 242
        }
      ]
    },
    {
      "metadata": {
        "id": "Nrnk8H5UVyQi",
        "colab_type": "code",
        "outputId": "4c11d769-fd9f-4824-d7a5-da57cf13186a",
        "colab": {
          "base_uri": "https://localhost:8080/",
          "height": 34
        }
      },
      "cell_type": "code",
      "source": [
        "som.view_umatrix"
      ],
      "execution_count": 0,
      "outputs": [
        {
          "output_type": "execute_result",
          "data": {
            "text/plain": [
              "<bound method Somoclu.view_umatrix of <somoclu.train.Somoclu object at 0x7f52c2c00d68>>"
            ]
          },
          "metadata": {
            "tags": []
          },
          "execution_count": 251
        }
      ]
    },
    {
      "metadata": {
        "id": "uoTMfyhUVxqd",
        "colab_type": "code",
        "colab": {}
      },
      "cell_type": "code",
      "source": [
        ""
      ],
      "execution_count": 0,
      "outputs": []
    },
    {
      "metadata": {
        "id": "yAwOotGzFhX1",
        "colab_type": "code",
        "colab": {}
      },
      "cell_type": "code",
      "source": [
        ""
      ],
      "execution_count": 0,
      "outputs": []
    },
    {
      "metadata": {
        "id": "eQPjJO0sFhqy",
        "colab_type": "code",
        "colab": {}
      },
      "cell_type": "code",
      "source": [
        ""
      ],
      "execution_count": 0,
      "outputs": []
    },
    {
      "metadata": {
        "id": "by-_am0qFh17",
        "colab_type": "code",
        "colab": {}
      },
      "cell_type": "code",
      "source": [
        ""
      ],
      "execution_count": 0,
      "outputs": []
    },
    {
      "metadata": {
        "id": "DTHQsiOmFiHx",
        "colab_type": "code",
        "colab": {}
      },
      "cell_type": "code",
      "source": [
        ""
      ],
      "execution_count": 0,
      "outputs": []
    },
    {
      "metadata": {
        "id": "levcJ_MNFiS1",
        "colab_type": "code",
        "colab": {}
      },
      "cell_type": "code",
      "source": [
        ""
      ],
      "execution_count": 0,
      "outputs": []
    },
    {
      "metadata": {
        "id": "VZTH42FKFigS",
        "colab_type": "code",
        "colab": {}
      },
      "cell_type": "code",
      "source": [
        ""
      ],
      "execution_count": 0,
      "outputs": []
    },
    {
      "metadata": {
        "id": "S0ce-G3ZFinz",
        "colab_type": "code",
        "colab": {}
      },
      "cell_type": "code",
      "source": [
        ""
      ],
      "execution_count": 0,
      "outputs": []
    },
    {
      "metadata": {
        "id": "5LZyVxwSFiym",
        "colab_type": "code",
        "colab": {}
      },
      "cell_type": "code",
      "source": [
        ""
      ],
      "execution_count": 0,
      "outputs": []
    },
    {
      "metadata": {
        "id": "5bGHBB-YFi4Y",
        "colab_type": "code",
        "colab": {}
      },
      "cell_type": "code",
      "source": [
        ""
      ],
      "execution_count": 0,
      "outputs": []
    },
    {
      "metadata": {
        "id": "JBprjHMDFjBf",
        "colab_type": "code",
        "colab": {}
      },
      "cell_type": "code",
      "source": [
        ""
      ],
      "execution_count": 0,
      "outputs": []
    },
    {
      "metadata": {
        "id": "YHDB7v5zFjHK",
        "colab_type": "code",
        "colab": {}
      },
      "cell_type": "code",
      "source": [
        ""
      ],
      "execution_count": 0,
      "outputs": []
    },
    {
      "metadata": {
        "id": "NI3H8DHAFjOG",
        "colab_type": "code",
        "colab": {}
      },
      "cell_type": "code",
      "source": [
        ""
      ],
      "execution_count": 0,
      "outputs": []
    },
    {
      "metadata": {
        "id": "_y3QZTEKFi-S",
        "colab_type": "code",
        "colab": {}
      },
      "cell_type": "code",
      "source": [
        ""
      ],
      "execution_count": 0,
      "outputs": []
    },
    {
      "metadata": {
        "id": "xhKrpvqoFivc",
        "colab_type": "code",
        "colab": {}
      },
      "cell_type": "code",
      "source": [
        ""
      ],
      "execution_count": 0,
      "outputs": []
    },
    {
      "metadata": {
        "id": "mrG2jBCLFitL",
        "colab_type": "code",
        "colab": {}
      },
      "cell_type": "code",
      "source": [
        ""
      ],
      "execution_count": 0,
      "outputs": []
    },
    {
      "metadata": {
        "id": "uXCsjDU0Fill",
        "colab_type": "code",
        "colab": {}
      },
      "cell_type": "code",
      "source": [
        ""
      ],
      "execution_count": 0,
      "outputs": []
    },
    {
      "metadata": {
        "id": "FxP5h_JUFidD",
        "colab_type": "code",
        "colab": {}
      },
      "cell_type": "code",
      "source": [
        ""
      ],
      "execution_count": 0,
      "outputs": []
    },
    {
      "metadata": {
        "id": "MRMq_lM3FiaH",
        "colab_type": "code",
        "colab": {}
      },
      "cell_type": "code",
      "source": [
        ""
      ],
      "execution_count": 0,
      "outputs": []
    },
    {
      "metadata": {
        "id": "3dY0AYCoFiYF",
        "colab_type": "code",
        "colab": {}
      },
      "cell_type": "code",
      "source": [
        ""
      ],
      "execution_count": 0,
      "outputs": []
    },
    {
      "metadata": {
        "id": "AGkYWhG3FiPs",
        "colab_type": "code",
        "colab": {}
      },
      "cell_type": "code",
      "source": [
        ""
      ],
      "execution_count": 0,
      "outputs": []
    },
    {
      "metadata": {
        "id": "_AJvoykdFiMr",
        "colab_type": "code",
        "colab": {}
      },
      "cell_type": "code",
      "source": [
        ""
      ],
      "execution_count": 0,
      "outputs": []
    },
    {
      "metadata": {
        "id": "N9pEWQNIFiEw",
        "colab_type": "code",
        "colab": {}
      },
      "cell_type": "code",
      "source": [
        ""
      ],
      "execution_count": 0,
      "outputs": []
    },
    {
      "metadata": {
        "id": "uAIIRmF0FiB8",
        "colab_type": "code",
        "colab": {}
      },
      "cell_type": "code",
      "source": [
        ""
      ],
      "execution_count": 0,
      "outputs": []
    },
    {
      "metadata": {
        "id": "lxUBVm4qFh96",
        "colab_type": "code",
        "colab": {}
      },
      "cell_type": "code",
      "source": [
        ""
      ],
      "execution_count": 0,
      "outputs": []
    },
    {
      "metadata": {
        "id": "mCF4b7bgFh67",
        "colab_type": "code",
        "colab": {}
      },
      "cell_type": "code",
      "source": [
        ""
      ],
      "execution_count": 0,
      "outputs": []
    },
    {
      "metadata": {
        "id": "LUSJJhtDFhyC",
        "colab_type": "code",
        "colab": {}
      },
      "cell_type": "code",
      "source": [
        ""
      ],
      "execution_count": 0,
      "outputs": []
    },
    {
      "metadata": {
        "id": "5kYAh6uwFhvi",
        "colab_type": "code",
        "colab": {}
      },
      "cell_type": "code",
      "source": [
        ""
      ],
      "execution_count": 0,
      "outputs": []
    }
  ]
}